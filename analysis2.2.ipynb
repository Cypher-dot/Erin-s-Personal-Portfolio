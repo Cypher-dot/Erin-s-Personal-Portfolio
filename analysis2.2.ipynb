{
 "cells": [
  {
   "cell_type": "markdown",
   "id": "eb92d5a7",
   "metadata": {},
   "source": [
    "### LSE Data Analytics Online Career Accelerator\n",
    "\n",
    "# Course 2: Data Analytics using Python"
   ]
  },
  {
   "cell_type": "markdown",
   "id": "0ea7e113",
   "metadata": {},
   "source": [
    "## 0) Assignment: Diagnostic Analysis using Python\n",
    "\n",
    "You’ll be working with real-world data to address a problem faced by the National Health Service (NHS). The analysis will require you to utilise Python to explore the available data, create visualisations to explore and communicate trends, and extract meaningful insights to inform decision-making. This Jupyter Notebook is the starting point and it is important to document all your decisions and observations to ensure that these are available as inputs to the technical report and business presentation that will form part of your submission."
   ]
  },
  {
   "cell_type": "markdown",
   "id": "bce4b767",
   "metadata": {
    "tags": []
   },
   "source": [
    "### A note for students using this template\n",
    "This Jupyter Notebook is a template you can use to complete the Course 2 assignment: Diagnostic Analysis using Python. \n",
    "Keep in mind the following points: \n",
    "- Using this template as your working document is optional, it is **not required** to use this template to complete the assignment. \n",
    "- The intention of the template is to provide suggestions regarding the structure and workflow that is expected and it follows the assignment activites throughout the course.\n",
    "- Refer to the guidance in the Assignment Activity pages for specific details. \n",
    "- The markup and comments in this template identify the key elements you need to complete before submitting the assignment.\n",
    "- Make this notebook your own by adding comments, cells, and content to reflect your analytical journey. You can add links, screenshots, or images to support your analysis, refine or clarify the questions, and change the workflow to suit your process. Important elements include:\n",
    "    - code comments\n",
    "    - Markdown cells with your observations, interpretation, and notes in anticipation of the technical report and business presentation.\n",
    "- All code output and visualisations should be functional and visible in the submitted Jupyter Notebook. \n",
    "- If you decide to use this template for your assignment, make a copy of the notebook and save it using the assignment naming convention: **LastName_FirstName_DA201_Assignment_Notebook.ipynb**.\n",
    "- Be sure to save frequent snapshots of your Jupyter Notebook to ensure that you can recover work if required.\n",
    "\n",
    " > ***Markdown*** Remember to change cell types to `Markdown`. You can review [Markdown basics](https://docs.github.com/en/get-started/writing-on-github/getting-started-with-writing-and-formatting-on-github/basic-writing-and-formatting-syntax) to find out how to add formatted text, links, and images to your notebook.\n",
    " \n",
    " \n",
    " > ***Notebook state*** Remember that you will have to execute all the code in your notebook (from the start of the notebook to where you are currently working) every time you restart your Jupyter Notebook server or when working in a new session. Make sure that your notebook is in the correct state before continuing with the work for the current module."
   ]
  },
  {
   "cell_type": "markdown",
   "id": "58626ff1-5d46-400c-aaee-9868e78f6175",
   "metadata": {},
   "source": [
    "# "
   ]
  },
  {
   "cell_type": "markdown",
   "id": "0834b036",
   "metadata": {},
   "source": [
    "## 1) Assignment activity 1\n",
    "In the first module you are encouraged to explore the data and the provided template. You should also reflect on the scenario and use case and start to document your own interpretation of the business questions and how you will go about answering them."
   ]
  },
  {
   "cell_type": "code",
   "execution_count": null,
   "id": "984dc1db",
   "metadata": {},
   "outputs": [],
   "source": [
    "# Document your planned analytical approach."
   ]
  },
  {
   "cell_type": "code",
   "execution_count": null,
   "id": "64ee2641-7f13-44c5-a174-98796ba8e2ed",
   "metadata": {},
   "outputs": [],
   "source": [
    "# Understand and Read the Metadata really well so that I know exactly how much of information is been made available. "
   ]
  },
  {
   "cell_type": "code",
   "execution_count": null,
   "id": "784a1352-3b2c-4cdc-8ce1-5e8f27f367b3",
   "metadata": {},
   "outputs": [],
   "source": [
    "# Clean the dataset to know whether there are any missing or incomplete data"
   ]
  },
  {
   "cell_type": "code",
   "execution_count": null,
   "id": "77b9292d-4d5a-4fd0-9f59-5afb4bc70c75",
   "metadata": {},
   "outputs": [],
   "source": [
    "# Start performing the functions given in the template as an excercise to get an idea of the entire assignment."
   ]
  },
  {
   "cell_type": "code",
   "execution_count": null,
   "id": "22010e36-6815-4fc4-ac14-e4879e921df1",
   "metadata": {},
   "outputs": [],
   "source": [
    "# Decide on the key questions that I want to present to the stakeholders"
   ]
  },
  {
   "cell_type": "code",
   "execution_count": null,
   "id": "48770c93-a9e1-4b26-ae98-fc29617bfa02",
   "metadata": {},
   "outputs": [],
   "source": [
    "# Start curating my code to finally reach my objective. "
   ]
  },
  {
   "cell_type": "code",
   "execution_count": null,
   "id": "9bebe769-7c50-4a65-97d8-ecaf02b0e65a",
   "metadata": {},
   "outputs": [],
   "source": [
    "# Prepare and analyze the results from the codes. "
   ]
  },
  {
   "cell_type": "markdown",
   "id": "75865787-77e2-4320-b0c6-0217f8e58e7b",
   "metadata": {},
   "source": [
    "> ***Check*** that you have adequately satisfied the expectations of the current module and that you have added code comments as well as Markdown cells documenting your analytic journey and observations to satisfy the assessment criteria."
   ]
  },
  {
   "cell_type": "markdown",
   "id": "af0f600f",
   "metadata": {},
   "source": [
    "# "
   ]
  },
  {
   "cell_type": "markdown",
   "id": "c010a760",
   "metadata": {
    "tags": []
   },
   "source": [
    "## 2) Assignment activity 2\n",
    "**Basic exploration and descriptive statistics.**\n",
    "- Import the three indicated data sources and perform basic exploratory analysis including obtaining descriptive statistics.\n",
    "- Determine and comment on the quality, usefulness, and opportunities contained in the data sets.\n",
    "- Document initial observations and findings.\n",
    "\n",
    "Are there any comments regarding data quality or descriptive statistics worth noting for each of the data sets?\n",
    "Can you comment on other features (columns) that could potentially be useful in your analysis?"
   ]
  },
  {
   "cell_type": "markdown",
   "id": "550d4c5b",
   "metadata": {},
   "source": [
    "### Prepare your workstation"
   ]
  },
  {
   "cell_type": "code",
   "execution_count": 1,
   "id": "ef565e11",
   "metadata": {},
   "outputs": [],
   "source": [
    "# Import the necessary libraries.\n",
    "import pandas as pd\n",
    "import numpy as np\n",
    "\n",
    "actual_duration = pd.read_csv('actual_duration.csv')\n",
    "appointments_regional = pd.read_csv('appointments_regional.csv')\n",
    "national_categories = pd.read_excel('national_categories.xlsx')\n",
    "tweets = pd.read_csv('tweets.csv')\n",
    "\n",
    "\n",
    "\n",
    "\n",
    "\n",
    "\n",
    "\n",
    "\n",
    "\n",
    "\n",
    "# Import other libraries if required. (Note that you can revisit this section in later modules.)\n",
    "\n",
    "\n",
    "\n",
    "# Optional - Ignore warnings.\n",
    "import warnings\n",
    "warnings.filterwarnings('ignore')"
   ]
  },
  {
   "cell_type": "code",
   "execution_count": 2,
   "id": "bba5d145",
   "metadata": {},
   "outputs": [
    {
     "name": "stdout",
     "output_type": "stream",
     "text": [
      "actual_duration\n"
     ]
    }
   ],
   "source": [
    "print (\"actual_duration\")"
   ]
  },
  {
   "cell_type": "code",
   "execution_count": 13,
   "id": "3a9363d9",
   "metadata": {},
   "outputs": [
    {
     "name": "stdout",
     "output_type": "stream",
     "text": [
      "actual_duration.csv\n",
      "<bound method NDFrame.head of        sub_icb_location_code sub_icb_location_ons_code  \\\n",
      "0                        00L                 E38000130   \n",
      "1                        00L                 E38000130   \n",
      "2                        00L                 E38000130   \n",
      "3                        00L                 E38000130   \n",
      "4                        00L                 E38000130   \n",
      "...                      ...                       ...   \n",
      "137788                 X2C4Y                 E38000254   \n",
      "137789                 X2C4Y                 E38000254   \n",
      "137790                 X2C4Y                 E38000254   \n",
      "137791                 X2C4Y                 E38000254   \n",
      "137792                 X2C4Y                 E38000254   \n",
      "\n",
      "                             sub_icb_location_name icb_ons_code  \\\n",
      "0       NHS North East and North Cumbria ICB - 00L    E54000050   \n",
      "1       NHS North East and North Cumbria ICB - 00L    E54000050   \n",
      "2       NHS North East and North Cumbria ICB - 00L    E54000050   \n",
      "3       NHS North East and North Cumbria ICB - 00L    E54000050   \n",
      "4       NHS North East and North Cumbria ICB - 00L    E54000050   \n",
      "...                                            ...          ...   \n",
      "137788              NHS West Yorkshire ICB - X2C4Y    E54000054   \n",
      "137789              NHS West Yorkshire ICB - X2C4Y    E54000054   \n",
      "137790              NHS West Yorkshire ICB - X2C4Y    E54000054   \n",
      "137791              NHS West Yorkshire ICB - X2C4Y    E54000054   \n",
      "137792              NHS West Yorkshire ICB - X2C4Y    E54000054   \n",
      "\n",
      "       region_ons_code appointment_date         actual_duration  \\\n",
      "0            E40000012        01-Dec-21           31-60 Minutes   \n",
      "1            E40000012        01-Dec-21           21-30 Minutes   \n",
      "2            E40000012        01-Dec-21            6-10 Minutes   \n",
      "3            E40000012        01-Dec-21  Unknown / Data Quality   \n",
      "4            E40000012        01-Dec-21           16-20 Minutes   \n",
      "...                ...              ...                     ...   \n",
      "137788       E40000012        30-Jun-22           31-60 Minutes   \n",
      "137789       E40000012        30-Jun-22           21-30 Minutes   \n",
      "137790       E40000012        30-Jun-22           16-20 Minutes   \n",
      "137791       E40000012        30-Jun-22           11-15 Minutes   \n",
      "137792       E40000012        30-Jun-22             1-5 Minutes   \n",
      "\n",
      "        count_of_appointments  \n",
      "0                         364  \n",
      "1                         619  \n",
      "2                        1698  \n",
      "3                        1277  \n",
      "4                         730  \n",
      "...                       ...  \n",
      "137788                    430  \n",
      "137789                    751  \n",
      "137790                    921  \n",
      "137791                   1439  \n",
      "137792                   1739  \n",
      "\n",
      "[137793 rows x 8 columns]>\n",
      "\n",
      "Appointments Regional:\n",
      "  icb_ons_code appointment_month appointment_status hcp_type appointment_mode  \\\n",
      "0    E54000034           2020-01           Attended       GP     Face-to-Face   \n",
      "1    E54000034           2020-01           Attended       GP     Face-to-Face   \n",
      "2    E54000034           2020-01           Attended       GP     Face-to-Face   \n",
      "3    E54000034           2020-01           Attended       GP     Face-to-Face   \n",
      "4    E54000034           2020-01           Attended       GP     Face-to-Face   \n",
      "\n",
      "  time_between_book_and_appointment  count_of_appointments  \n",
      "0                             1 Day                   8107  \n",
      "1                    15  to 21 Days                   6791  \n",
      "2                       2 to 7 Days                  20686  \n",
      "3                    22  to 28 Days                   4268  \n",
      "4                     8  to 14 Days                  11971  \n",
      "\n",
      "National Categories:\n",
      "  appointment_date icb_ons_code                       sub_icb_location_name  \\\n",
      "0       2021-08-02    E54000050  NHS North East and North Cumbria ICB - 00L   \n",
      "1       2021-08-02    E54000050  NHS North East and North Cumbria ICB - 00L   \n",
      "2       2021-08-02    E54000050  NHS North East and North Cumbria ICB - 00L   \n",
      "3       2021-08-02    E54000050  NHS North East and North Cumbria ICB - 00L   \n",
      "4       2021-08-02    E54000050  NHS North East and North Cumbria ICB - 00L   \n",
      "\n",
      "        service_setting            context_type  \\\n",
      "0  Primary Care Network  Care Related Encounter   \n",
      "1                 Other  Care Related Encounter   \n",
      "2      General Practice  Care Related Encounter   \n",
      "3      General Practice  Care Related Encounter   \n",
      "4      General Practice  Care Related Encounter   \n",
      "\n",
      "                        national_category  count_of_appointments  \\\n",
      "0  Patient contact during Care Home Round                      3   \n",
      "1                         Planned Clinics                      7   \n",
      "2                              Home Visit                     79   \n",
      "3              General Consultation Acute                    725   \n",
      "4            Structured Medication Review                      2   \n",
      "\n",
      "  appointment_month  \n",
      "0           2021-08  \n",
      "1           2021-08  \n",
      "2           2021-08  \n",
      "3           2021-08  \n",
      "4           2021-08  \n",
      "\n",
      "Tweets:\n",
      "              tweet_id                                    tweet_full_text  \\\n",
      "0  1567629223795527681  As Arkansas’ first Comprehensive Stroke Certif...   \n",
      "1  1567582846612553728  RT @AndreaGrammer: Work-life balance is at the...   \n",
      "2  1567582787070304256  RT @OntarioGreens: $10 billion can go a long w...   \n",
      "3  1567582767625428992  RT @modrnhealthcr: 🚨#NEW:🚨 Insurance companies...   \n",
      "4  1567582720460570625  ICYMI: Our recent blogs on Cybersecurity in Ac...   \n",
      "\n",
      "                                      tweet_entities  \\\n",
      "0  {'hashtags': [{'text': 'Healthcare', 'indices'...   \n",
      "1  {'hashtags': [{'text': 'PremiseHealth', 'indic...   \n",
      "2  {'hashtags': [{'text': 'Healthcare', 'indices'...   \n",
      "3  {'hashtags': [{'text': 'NEW', 'indices': [20, ...   \n",
      "4  {'hashtags': [{'text': 'blogs', 'indices': [18...   \n",
      "\n",
      "                             tweet_entities_hashtags  \\\n",
      "0                                        #Healthcare   \n",
      "1                            #PremiseHealth, #hiring   \n",
      "2                                        #Healthcare   \n",
      "3                                               #NEW   \n",
      "4  #blogs, #digitaltransformation, #cybersecurity...   \n",
      "\n",
      "                                      tweet_metadata  tweet_retweet_count  \\\n",
      "0  {'iso_language_code': 'en', 'result_type': 're...                    0   \n",
      "1  {'iso_language_code': 'en', 'result_type': 're...                    2   \n",
      "2  {'iso_language_code': 'en', 'result_type': 're...                   39   \n",
      "3  {'iso_language_code': 'en', 'result_type': 're...                    5   \n",
      "4  {'iso_language_code': 'en', 'result_type': 're...                    0   \n",
      "\n",
      "   tweet_favorite_count  tweet_favorited  tweet_retweeted tweet_lang  \n",
      "0                     0            False            False         en  \n",
      "1                     0            False            False         en  \n",
      "2                     0            False            False         en  \n",
      "3                     0            False            False         en  \n",
      "4                     0            False            False         en  \n"
     ]
    }
   ],
   "source": [
    "print(\"actual_duration.csv\")\n",
    "print(actual_duration.head)\n",
    "\n",
    "\n",
    "print(\"Appointments Regional:\")\n",
    "print(appointments_regional.head())\n",
    "\n",
    "print(\"National Categories:\")\n",
    "print(national_categories.head())\n",
    "\n",
    "print(\"Tweets:\")\n",
    "print(tweets.head())"
   ]
  },
  {
   "cell_type": "code",
   "execution_count": 21,
   "id": "6c076154-5a96-496a-bd3e-fc5358fa6149",
   "metadata": {},
   "outputs": [
    {
     "name": "stdout",
     "output_type": "stream",
     "text": [
      "actual Duration:\n",
      "  sub_icb_location_code sub_icb_location_ons_code  \\\n",
      "0                   00L                 E38000130   \n",
      "1                   00L                 E38000130   \n",
      "2                   00L                 E38000130   \n",
      "3                   00L                 E38000130   \n",
      "4                   00L                 E38000130   \n",
      "\n",
      "                        sub_icb_location_name icb_ons_code region_ons_code  \\\n",
      "0  NHS North East and North Cumbria ICB - 00L    E54000050       E40000012   \n",
      "1  NHS North East and North Cumbria ICB - 00L    E54000050       E40000012   \n",
      "2  NHS North East and North Cumbria ICB - 00L    E54000050       E40000012   \n",
      "3  NHS North East and North Cumbria ICB - 00L    E54000050       E40000012   \n",
      "4  NHS North East and North Cumbria ICB - 00L    E54000050       E40000012   \n",
      "\n",
      "  appointment_date         actual_duration  count_of_appointments  \n",
      "0        01-Dec-21           31-60 Minutes                    364  \n",
      "1        01-Dec-21           21-30 Minutes                    619  \n",
      "2        01-Dec-21            6-10 Minutes                   1698  \n",
      "3        01-Dec-21  Unknown / Data Quality                   1277  \n",
      "4        01-Dec-21           16-20 Minutes                    730  \n",
      "appointments Regional:\n",
      "  icb_ons_code appointment_month appointment_status hcp_type appointment_mode  \\\n",
      "0    E54000034           2020-01           Attended       GP     Face-to-Face   \n",
      "1    E54000034           2020-01           Attended       GP     Face-to-Face   \n",
      "2    E54000034           2020-01           Attended       GP     Face-to-Face   \n",
      "3    E54000034           2020-01           Attended       GP     Face-to-Face   \n",
      "4    E54000034           2020-01           Attended       GP     Face-to-Face   \n",
      "\n",
      "  time_between_book_and_appointment  count_of_appointments  \n",
      "0                             1 Day                   8107  \n",
      "1                    15  to 21 Days                   6791  \n",
      "2                       2 to 7 Days                  20686  \n",
      "3                    22  to 28 Days                   4268  \n",
      "4                     8  to 14 Days                  11971  \n",
      "tweets\n",
      "<bound method NDFrame.head of                  tweet_id                                    tweet_full_text  \\\n",
      "0     1567629223795527681  As Arkansas’ first Comprehensive Stroke Certif...   \n",
      "1     1567582846612553728  RT @AndreaGrammer: Work-life balance is at the...   \n",
      "2     1567582787070304256  RT @OntarioGreens: $10 billion can go a long w...   \n",
      "3     1567582767625428992  RT @modrnhealthcr: 🚨#NEW:🚨 Insurance companies...   \n",
      "4     1567582720460570625  ICYMI: Our recent blogs on Cybersecurity in Ac...   \n",
      "...                   ...                                                ...   \n",
      "1169  1567583004209332227  RT @PotomacPhotonic: Potomac #Innovation Repor...   \n",
      "1170  1567582945342267393  Not a cent towards workers who would like to a...   \n",
      "1171  1567582936014241792  The @hfmaorg Region 9 presents \"The Value of E...   \n",
      "1172  1567582892892782592  Happy physiotherapy 🩺 day 🎉..\\n#bpt #physiothe...   \n",
      "1173  1567582846847533058  RT @KimcoStaffing: Apply now to work for #Medi...   \n",
      "\n",
      "                                         tweet_entities  \\\n",
      "0     {'hashtags': [{'text': 'Healthcare', 'indices'...   \n",
      "1     {'hashtags': [{'text': 'PremiseHealth', 'indic...   \n",
      "2     {'hashtags': [{'text': 'Healthcare', 'indices'...   \n",
      "3     {'hashtags': [{'text': 'NEW', 'indices': [20, ...   \n",
      "4     {'hashtags': [{'text': 'blogs', 'indices': [18...   \n",
      "...                                                 ...   \n",
      "1169  {'hashtags': [{'text': 'Innovation', 'indices'...   \n",
      "1170  {'hashtags': [{'text': 'SKPoli', 'indices': [2...   \n",
      "1171  {'hashtags': [{'text': 'webinar', 'indices': [...   \n",
      "1172  {'hashtags': [{'text': 'bpt', 'indices': [30, ...   \n",
      "1173  {'hashtags': [{'text': 'MediQuestStaffing', 'i...   \n",
      "\n",
      "                                tweet_entities_hashtags  \\\n",
      "0                                           #Healthcare   \n",
      "1                               #PremiseHealth, #hiring   \n",
      "2                                           #Healthcare   \n",
      "3                                                  #NEW   \n",
      "4     #blogs, #digitaltransformation, #cybersecurity...   \n",
      "...                                                 ...   \n",
      "1169  #Innovation, #precisionFabrication, #Microfluidic   \n",
      "1170                               #SKPoli, #healthcare   \n",
      "1171                        #webinar, #ESG, #healthcare   \n",
      "1172  #bpt, #physiotherapy, #HealthyNation, #healthc...   \n",
      "1173  #MediQuestStaffing, #Hospital, #shift, #Newpor...   \n",
      "\n",
      "                                         tweet_metadata  tweet_retweet_count  \\\n",
      "0     {'iso_language_code': 'en', 'result_type': 're...                    0   \n",
      "1     {'iso_language_code': 'en', 'result_type': 're...                    2   \n",
      "2     {'iso_language_code': 'en', 'result_type': 're...                   39   \n",
      "3     {'iso_language_code': 'en', 'result_type': 're...                    5   \n",
      "4     {'iso_language_code': 'en', 'result_type': 're...                    0   \n",
      "...                                                 ...                  ...   \n",
      "1169  {'iso_language_code': 'en', 'result_type': 're...                    1   \n",
      "1170  {'iso_language_code': 'en', 'result_type': 're...                    0   \n",
      "1171  {'iso_language_code': 'en', 'result_type': 're...                    0   \n",
      "1172  {'iso_language_code': 'en', 'result_type': 're...                    0   \n",
      "1173  {'iso_language_code': 'en', 'result_type': 're...                    2   \n",
      "\n",
      "      tweet_favorite_count  tweet_favorited  tweet_retweeted tweet_lang  \n",
      "0                        0            False            False         en  \n",
      "1                        0            False            False         en  \n",
      "2                        0            False            False         en  \n",
      "3                        0            False            False         en  \n",
      "4                        0            False            False         en  \n",
      "...                    ...              ...              ...        ...  \n",
      "1169                     0            False            False         en  \n",
      "1170                     1            False            False         en  \n",
      "1171                     0            False            False         en  \n",
      "1172                     5            False            False         en  \n",
      "1173                     0            False            False         en  \n",
      "\n",
      "[1174 rows x 10 columns]>\n",
      "\n",
      "National Categories:\n",
      "  appointment_date icb_ons_code                       sub_icb_location_name  \\\n",
      "0       2021-08-02    E54000050  NHS North East and North Cumbria ICB - 00L   \n",
      "1       2021-08-02    E54000050  NHS North East and North Cumbria ICB - 00L   \n",
      "2       2021-08-02    E54000050  NHS North East and North Cumbria ICB - 00L   \n",
      "3       2021-08-02    E54000050  NHS North East and North Cumbria ICB - 00L   \n",
      "4       2021-08-02    E54000050  NHS North East and North Cumbria ICB - 00L   \n",
      "\n",
      "        service_setting            context_type  \\\n",
      "0  Primary Care Network  Care Related Encounter   \n",
      "1                 Other  Care Related Encounter   \n",
      "2      General Practice  Care Related Encounter   \n",
      "3      General Practice  Care Related Encounter   \n",
      "4      General Practice  Care Related Encounter   \n",
      "\n",
      "                        national_category  count_of_appointments  \\\n",
      "0  Patient contact during Care Home Round                      3   \n",
      "1                         Planned Clinics                      7   \n",
      "2                              Home Visit                     79   \n",
      "3              General Consultation Acute                    725   \n",
      "4            Structured Medication Review                      2   \n",
      "\n",
      "  appointment_month  \n",
      "0           2021-08  \n",
      "1           2021-08  \n",
      "2           2021-08  \n",
      "3           2021-08  \n",
      "4           2021-08  \n"
     ]
    }
   ],
   "source": [
    "# Import and sense-check 'actual_duration.csv' as ad.\n",
    "\n",
    "ad = pd.read_csv('actual_duration.csv')\n",
    "ar = pd.read_csv('appointments_regional.csv')\n",
    "tw = pd.read_csv('tweets.csv')\n",
    "\n",
    "nc = pd.read_excel('national_categories.xlsx')\n",
    "\n",
    "\n",
    "print(\"actual Duration:\")\n",
    "print(ad.head())\n",
    "\n",
    "print(\"appointments Regional:\")\n",
    "print(ar.head())\n",
    "\n",
    "print (\"tweets\")\n",
    "print (tw.head)\n",
    "\n",
    "\n",
    "\n",
    "print(\"National Categories:\")\n",
    "print(nc.head())\n"
   ]
  },
  {
   "cell_type": "code",
   "execution_count": 19,
   "id": "3c7f2901-f685-4fc9-801f-be4344e65efb",
   "metadata": {},
   "outputs": [
    {
     "name": "stdout",
     "output_type": "stream",
     "text": [
      "Actual Duration Description:\n",
      "       count_of_appointments\n",
      "count          137793.000000\n",
      "mean             1219.080011\n",
      "std              1546.902956\n",
      "min                 1.000000\n",
      "25%               194.000000\n",
      "50%               696.000000\n",
      "75%              1621.000000\n",
      "max             15400.000000\n",
      "Appointments Regional Description:\n",
      "       count_of_appointments\n",
      "count          596821.000000\n",
      "mean             1244.601857\n",
      "std              5856.887042\n",
      "min                 1.000000\n",
      "25%                 7.000000\n",
      "50%                47.000000\n",
      "75%               308.000000\n",
      "max            211265.000000\n",
      "tweets description\n",
      "<bound method NDFrame.describe of                  tweet_id                                    tweet_full_text  \\\n",
      "0     1567629223795527681  As Arkansas’ first Comprehensive Stroke Certif...   \n",
      "1     1567582846612553728  RT @AndreaGrammer: Work-life balance is at the...   \n",
      "2     1567582787070304256  RT @OntarioGreens: $10 billion can go a long w...   \n",
      "3     1567582767625428992  RT @modrnhealthcr: 🚨#NEW:🚨 Insurance companies...   \n",
      "4     1567582720460570625  ICYMI: Our recent blogs on Cybersecurity in Ac...   \n",
      "...                   ...                                                ...   \n",
      "1169  1567583004209332227  RT @PotomacPhotonic: Potomac #Innovation Repor...   \n",
      "1170  1567582945342267393  Not a cent towards workers who would like to a...   \n",
      "1171  1567582936014241792  The @hfmaorg Region 9 presents \"The Value of E...   \n",
      "1172  1567582892892782592  Happy physiotherapy 🩺 day 🎉..\\n#bpt #physiothe...   \n",
      "1173  1567582846847533058  RT @KimcoStaffing: Apply now to work for #Medi...   \n",
      "\n",
      "                                         tweet_entities  \\\n",
      "0     {'hashtags': [{'text': 'Healthcare', 'indices'...   \n",
      "1     {'hashtags': [{'text': 'PremiseHealth', 'indic...   \n",
      "2     {'hashtags': [{'text': 'Healthcare', 'indices'...   \n",
      "3     {'hashtags': [{'text': 'NEW', 'indices': [20, ...   \n",
      "4     {'hashtags': [{'text': 'blogs', 'indices': [18...   \n",
      "...                                                 ...   \n",
      "1169  {'hashtags': [{'text': 'Innovation', 'indices'...   \n",
      "1170  {'hashtags': [{'text': 'SKPoli', 'indices': [2...   \n",
      "1171  {'hashtags': [{'text': 'webinar', 'indices': [...   \n",
      "1172  {'hashtags': [{'text': 'bpt', 'indices': [30, ...   \n",
      "1173  {'hashtags': [{'text': 'MediQuestStaffing', 'i...   \n",
      "\n",
      "                                tweet_entities_hashtags  \\\n",
      "0                                           #Healthcare   \n",
      "1                               #PremiseHealth, #hiring   \n",
      "2                                           #Healthcare   \n",
      "3                                                  #NEW   \n",
      "4     #blogs, #digitaltransformation, #cybersecurity...   \n",
      "...                                                 ...   \n",
      "1169  #Innovation, #precisionFabrication, #Microfluidic   \n",
      "1170                               #SKPoli, #healthcare   \n",
      "1171                        #webinar, #ESG, #healthcare   \n",
      "1172  #bpt, #physiotherapy, #HealthyNation, #healthc...   \n",
      "1173  #MediQuestStaffing, #Hospital, #shift, #Newpor...   \n",
      "\n",
      "                                         tweet_metadata  tweet_retweet_count  \\\n",
      "0     {'iso_language_code': 'en', 'result_type': 're...                    0   \n",
      "1     {'iso_language_code': 'en', 'result_type': 're...                    2   \n",
      "2     {'iso_language_code': 'en', 'result_type': 're...                   39   \n",
      "3     {'iso_language_code': 'en', 'result_type': 're...                    5   \n",
      "4     {'iso_language_code': 'en', 'result_type': 're...                    0   \n",
      "...                                                 ...                  ...   \n",
      "1169  {'iso_language_code': 'en', 'result_type': 're...                    1   \n",
      "1170  {'iso_language_code': 'en', 'result_type': 're...                    0   \n",
      "1171  {'iso_language_code': 'en', 'result_type': 're...                    0   \n",
      "1172  {'iso_language_code': 'en', 'result_type': 're...                    0   \n",
      "1173  {'iso_language_code': 'en', 'result_type': 're...                    2   \n",
      "\n",
      "      tweet_favorite_count  tweet_favorited  tweet_retweeted tweet_lang  \n",
      "0                        0            False            False         en  \n",
      "1                        0            False            False         en  \n",
      "2                        0            False            False         en  \n",
      "3                        0            False            False         en  \n",
      "4                        0            False            False         en  \n",
      "...                    ...              ...              ...        ...  \n",
      "1169                     0            False            False         en  \n",
      "1170                     1            False            False         en  \n",
      "1171                     0            False            False         en  \n",
      "1172                     5            False            False         en  \n",
      "1173                     0            False            False         en  \n",
      "\n",
      "[1174 rows x 10 columns]>\n",
      "National Categories Description:\n",
      "                    appointment_date  count_of_appointments\n",
      "count                         817394          817394.000000\n",
      "mean   2022-01-16 00:50:35.860796160             362.183684\n",
      "min              2021-08-01 00:00:00               1.000000\n",
      "25%              2021-10-25 00:00:00               7.000000\n",
      "50%              2022-01-18 00:00:00              25.000000\n",
      "75%              2022-04-07 00:00:00             128.000000\n",
      "max              2022-06-30 00:00:00           16590.000000\n",
      "std                              NaN            1084.576600\n"
     ]
    }
   ],
   "source": [
    "#review metadata and descriptive statistics\n",
    "\n",
    "# Describe Actual Duration dataframe\n",
    "print(\"Actual Duration Description:\")\n",
    "print(ad.describe())\n",
    "\n",
    "# Describe Appointments Regional dataframe\n",
    "print(\"Appointments Regional Description:\")\n",
    "print(ar.describe())\n",
    "\n",
    "# Describe tweets dataframe\n",
    "print (\"tweets description\")\n",
    "print (tw.describe)\n",
    "\n",
    "# Describe National Categories dataframe\n",
    "print(\"National Categories Description:\")\n",
    "print(nc.describe())\n",
    "\n",
    "\n",
    "\n"
   ]
  },
  {
   "cell_type": "code",
   "execution_count": 22,
   "id": "33e3657f-35a4-46dd-bc9f-809433d2f958",
   "metadata": {},
   "outputs": [
    {
     "name": "stdout",
     "output_type": "stream",
     "text": [
      "Missing values in Actual Duration:\n",
      "sub_icb_location_code        0\n",
      "sub_icb_location_ons_code    0\n",
      "sub_icb_location_name        0\n",
      "icb_ons_code                 0\n",
      "region_ons_code              0\n",
      "appointment_date             0\n",
      "actual_duration              0\n",
      "count_of_appointments        0\n",
      "dtype: int64\n",
      "\n",
      "Missing values in Appointments Regional:\n",
      "icb_ons_code                         0\n",
      "appointment_month                    0\n",
      "appointment_status                   0\n",
      "hcp_type                             0\n",
      "appointment_mode                     0\n",
      "time_between_book_and_appointment    0\n",
      "count_of_appointments                0\n",
      "dtype: int64\n",
      "\n",
      "Missing values in tweets:\n",
      "icb_ons_code                         0\n",
      "appointment_month                    0\n",
      "appointment_status                   0\n",
      "hcp_type                             0\n",
      "appointment_mode                     0\n",
      "time_between_book_and_appointment    0\n",
      "count_of_appointments                0\n",
      "dtype: int64\n",
      "\n",
      "Missing values in National Categories:\n",
      "appointment_date         0\n",
      "icb_ons_code             0\n",
      "sub_icb_location_name    0\n",
      "service_setting          0\n",
      "context_type             0\n",
      "national_category        0\n",
      "count_of_appointments    0\n",
      "appointment_month        0\n",
      "dtype: int64\n"
     ]
    }
   ],
   "source": [
    "# Check for missing values.\n",
    "\n",
    "# Check for missing values in Actual Duration dataframe\n",
    "print(\"Missing values in Actual Duration:\")\n",
    "print(ad.isnull().sum())\n",
    "\n",
    "# Check for missing values in Appointments Regional dataframe\n",
    "print(\"\\nMissing values in Appointments Regional:\")\n",
    "print(ar.isnull().sum())\n",
    "\n",
    "print(\"\\nMissing values in tweets:\")\n",
    "print(ar.isnull().sum())\n",
    "\n",
    "# Check for missing values in National Categories dataframe\n",
    "print(\"\\nMissing values in National Categories:\")\n",
    "print(nc.isnull().sum())\n",
    "\n"
   ]
  },
  {
   "cell_type": "markdown",
   "id": "f86ea066",
   "metadata": {},
   "source": [
    "### Exploration suggestions:\n",
    "Make sure to supplement the list with additional questions and observations that you have identified during modules 1 and 2."
   ]
  },
  {
   "cell_type": "markdown",
   "id": "333a607a",
   "metadata": {},
   "source": [
    "**Question 1:** How many locations are there in the data set?"
   ]
  },
  {
   "cell_type": "code",
   "execution_count": 23,
   "id": "749cdb45",
   "metadata": {},
   "outputs": [
    {
     "name": "stdout",
     "output_type": "stream",
     "text": [
      "Number of Unique Locations in Actual Duration DataFrame: 106\n",
      "Number of Unique Locations in National Categories DataFrame: 106\n"
     ]
    }
   ],
   "source": [
    "# Determine the number of locations.\n",
    "\n",
    "# Number of locations are given in 2 datasets only, so we will use the count function to understand how many lactaions are there.\n",
    "\n",
    "location_column = 'sub_icb_location_name'\n",
    "\n",
    "# Determine the number of unique locations in each DataFrame using the count function\n",
    "num_locations_ad = ad[location_column].value_counts().count()\n",
    "num_locations_nc = nc[location_column].value_counts().count()\n",
    "\n",
    "# Print the results\n",
    "print(\"Number of Unique Locations in Actual Duration DataFrame:\", num_locations_ad)\n",
    "print(\"Number of Unique Locations in National Categories DataFrame:\", num_locations_nc)\n",
    "\n",
    "\n",
    "\n"
   ]
  },
  {
   "cell_type": "markdown",
   "id": "93f0ce86",
   "metadata": {},
   "source": [
    "**Question 2:** What are the five locations with the highest number of records?\n",
    "\n"
   ]
  },
  {
   "cell_type": "code",
   "execution_count": 24,
   "id": "9e7c3913",
   "metadata": {},
   "outputs": [
    {
     "name": "stdout",
     "output_type": "stream",
     "text": [
      "Top 5 Locations with Highest Record Count in Actual Duration DataFrame:\n",
      "sub_icb_location_name\n",
      "NHS Norfolk and Waveney ICB - 26A                       1484\n",
      "NHS Kent and Medway ICB - 91Q                           1484\n",
      "NHS North West London ICB - W2U3Z                       1484\n",
      "NHS Bedfordshire Luton and Milton Keynes ICB - M1J4Y    1484\n",
      "NHS Greater Manchester ICB - 14L                        1484\n",
      "Name: count, dtype: int64\n",
      "\n",
      "Top 5 Locations with Highest Record Count in National Categories DataFrame:\n",
      "sub_icb_location_name\n",
      "NHS North West London ICB - W2U3Z              13007\n",
      "NHS Kent and Medway ICB - 91Q                  12637\n",
      "NHS Devon ICB - 15N                            12526\n",
      "NHS Hampshire and Isle Of Wight ICB - D9Y0V    12171\n",
      "NHS North East London ICB - A3A8R              11837\n",
      "Name: count, dtype: int64\n"
     ]
    }
   ],
   "source": [
    "# Determine the top five locations based on record count.\n",
    "# Highest number of the count of appointments in both these datasets will give an idea about the top 5 locations.\n",
    "\n",
    "location_column = 'sub_icb_location_name'\n",
    "\n",
    "top_locations_ad = ad[location_column].value_counts().nlargest(5)\n",
    "top_locations_nc = nc[location_column].value_counts().nlargest(5)\n",
    "\n",
    "# Print the results\n",
    "print(\"Top 5 Locations with Highest Record Count in Actual Duration DataFrame:\")\n",
    "print(top_locations_ad)\n",
    "\n",
    "print(\"Top 5 Locations with Highest Record Count in National Categories DataFrame:\")\n",
    "print(top_locations_nc)\n",
    "\n",
    "\n"
   ]
  },
  {
   "cell_type": "markdown",
   "id": "d75405a5",
   "metadata": {},
   "source": [
    "**Question 3:** How many service settings, context types, national categories, and appointment statuses are there?"
   ]
  },
  {
   "cell_type": "code",
   "execution_count": 40,
   "id": "3cc2f7aa",
   "metadata": {},
   "outputs": [
    {
     "name": "stdout",
     "output_type": "stream",
     "text": [
      "Number of Unique Service Settings in National Categories DataFrame: 5\n"
     ]
    }
   ],
   "source": [
    "# Determine the number of service settings.\n",
    "\n",
    "service_setting_column = 'service_setting'\n",
    "num_service_settings_nc = nc[service_setting_column].value_counts().count()\n",
    "print(\"Number of Unique Service Settings in National Categories DataFrame:\", num_service_settings_nc)\n",
    "\n"
   ]
  },
  {
   "cell_type": "code",
   "execution_count": 41,
   "id": "f6790e40",
   "metadata": {},
   "outputs": [
    {
     "name": "stdout",
     "output_type": "stream",
     "text": [
      "Number of Context types in National Categories DataFrame: 3\n"
     ]
    }
   ],
   "source": [
    "# Determine the number of context types.\n",
    "\n",
    "context_type_coloumn = 'context_type'\n",
    "num_context_type_nc = nc[context_type_coloumn].value_counts().count()\n",
    "print(\"Number of Context types in National Categories DataFrame:\",num_context_type_nc)"
   ]
  },
  {
   "cell_type": "code",
   "execution_count": 44,
   "id": "ba95bff3",
   "metadata": {},
   "outputs": [
    {
     "name": "stdout",
     "output_type": "stream",
     "text": [
      "Number of National Categories in National Categories DataFrame: 18\n"
     ]
    }
   ],
   "source": [
    "# Determine the number of national categories.\n",
    "national_category_column = 'national_category'\n",
    "num_national_category_nc = nc[national_category_column].value_counts().count()\n",
    "print(\"Number of National Categories in National Categories DataFrame:\", num_national_category_nc)"
   ]
  },
  {
   "cell_type": "code",
   "execution_count": 45,
   "id": "a5633147",
   "metadata": {},
   "outputs": [
    {
     "name": "stdout",
     "output_type": "stream",
     "text": [
      "Number of Appointment Status in Appointments Regional DataFrame: 3\n"
     ]
    }
   ],
   "source": [
    "# Determine the number of appointment statuses.\n",
    "appointment_status_column = 'appointment_status'\n",
    "num_appointment_status_ar = ar[appointment_status_column].value_counts().count()\n",
    "print(\"Number of Appointment Status in Appointments Regional DataFrame:\", num_appointment_status_ar)\n"
   ]
  },
  {
   "cell_type": "code",
   "execution_count": 55,
   "id": "b3b6a3dd-260f-43dc-960b-b3ce4d2fbe06",
   "metadata": {},
   "outputs": [
    {
     "name": "stdout",
     "output_type": "stream",
     "text": [
      "Number of Appointment Modes in Appointments Regional DataFrame: 5\n"
     ]
    }
   ],
   "source": [
    "# Determine the number of appointment mode\n",
    "appointment_mode_column = 'appointment_mode'\n",
    "num_appointment_mode_ar = ar[appointment_mode_column].value_counts().count()\n",
    "print(\"Number of Appointment Modes in Appointments Regional DataFrame:\", num_appointment_mode_ar)\n"
   ]
  },
  {
   "cell_type": "code",
   "execution_count": null,
   "id": "6420ecec-246d-4843-a2a8-0c6d65e480d0",
   "metadata": {},
   "outputs": [],
   "source": []
  },
  {
   "cell_type": "code",
   "execution_count": null,
   "id": "2840377f-4cf4-48f6-9061-0426d27dbeda",
   "metadata": {},
   "outputs": [],
   "source": []
  },
  {
   "cell_type": "markdown",
   "id": "f374a381-c258-44a0-bdde-459667c57edd",
   "metadata": {},
   "source": [
    "> ***Check*** that you have adequately satisfied the expectations of the current module and that you have added code comments as well as Markdown cells documenting your analytic journey and observations to satisfy the assessment criteria."
   ]
  },
  {
   "cell_type": "markdown",
   "id": "7c3429c3",
   "metadata": {},
   "source": [
    "# "
   ]
  },
  {
   "cell_type": "markdown",
   "id": "edf661d9",
   "metadata": {},
   "source": [
    "## 3) Assignment activity 3\n",
    "Continue your exploratory data analysis by answering the specific questions posed by the NHS as well as additional trends identified during data exploration. You can start by looking at the date range and the change in behaviour over time for the available data sources."
   ]
  },
  {
   "cell_type": "markdown",
   "id": "be5393dd",
   "metadata": {},
   "source": [
    "### Continue to explore the data and search for answers to more specific questions posed by the NHS."
   ]
  },
  {
   "cell_type": "markdown",
   "id": "a742e563",
   "metadata": {},
   "source": [
    "**Question 1:** Between what dates were appointments scheduled? "
   ]
  },
  {
   "cell_type": "code",
   "execution_count": 46,
   "id": "6d3e53a7",
   "metadata": {},
   "outputs": [
    {
     "data": {
      "text/html": [
       "<div>\n",
       "<style scoped>\n",
       "    .dataframe tbody tr th:only-of-type {\n",
       "        vertical-align: middle;\n",
       "    }\n",
       "\n",
       "    .dataframe tbody tr th {\n",
       "        vertical-align: top;\n",
       "    }\n",
       "\n",
       "    .dataframe thead th {\n",
       "        text-align: right;\n",
       "    }\n",
       "</style>\n",
       "<table border=\"1\" class=\"dataframe\">\n",
       "  <thead>\n",
       "    <tr style=\"text-align: right;\">\n",
       "      <th></th>\n",
       "      <th>sub_icb_location_code</th>\n",
       "      <th>sub_icb_location_ons_code</th>\n",
       "      <th>sub_icb_location_name</th>\n",
       "      <th>icb_ons_code</th>\n",
       "      <th>region_ons_code</th>\n",
       "      <th>appointment_date</th>\n",
       "      <th>actual_duration</th>\n",
       "      <th>count_of_appointments</th>\n",
       "    </tr>\n",
       "  </thead>\n",
       "  <tbody>\n",
       "    <tr>\n",
       "      <th>0</th>\n",
       "      <td>00L</td>\n",
       "      <td>E38000130</td>\n",
       "      <td>NHS North East and North Cumbria ICB - 00L</td>\n",
       "      <td>E54000050</td>\n",
       "      <td>E40000012</td>\n",
       "      <td>01-Dec-21</td>\n",
       "      <td>31-60 Minutes</td>\n",
       "      <td>364</td>\n",
       "    </tr>\n",
       "    <tr>\n",
       "      <th>1</th>\n",
       "      <td>00L</td>\n",
       "      <td>E38000130</td>\n",
       "      <td>NHS North East and North Cumbria ICB - 00L</td>\n",
       "      <td>E54000050</td>\n",
       "      <td>E40000012</td>\n",
       "      <td>01-Dec-21</td>\n",
       "      <td>21-30 Minutes</td>\n",
       "      <td>619</td>\n",
       "    </tr>\n",
       "    <tr>\n",
       "      <th>2</th>\n",
       "      <td>00L</td>\n",
       "      <td>E38000130</td>\n",
       "      <td>NHS North East and North Cumbria ICB - 00L</td>\n",
       "      <td>E54000050</td>\n",
       "      <td>E40000012</td>\n",
       "      <td>01-Dec-21</td>\n",
       "      <td>6-10 Minutes</td>\n",
       "      <td>1698</td>\n",
       "    </tr>\n",
       "    <tr>\n",
       "      <th>3</th>\n",
       "      <td>00L</td>\n",
       "      <td>E38000130</td>\n",
       "      <td>NHS North East and North Cumbria ICB - 00L</td>\n",
       "      <td>E54000050</td>\n",
       "      <td>E40000012</td>\n",
       "      <td>01-Dec-21</td>\n",
       "      <td>Unknown / Data Quality</td>\n",
       "      <td>1277</td>\n",
       "    </tr>\n",
       "    <tr>\n",
       "      <th>4</th>\n",
       "      <td>00L</td>\n",
       "      <td>E38000130</td>\n",
       "      <td>NHS North East and North Cumbria ICB - 00L</td>\n",
       "      <td>E54000050</td>\n",
       "      <td>E40000012</td>\n",
       "      <td>01-Dec-21</td>\n",
       "      <td>16-20 Minutes</td>\n",
       "      <td>730</td>\n",
       "    </tr>\n",
       "  </tbody>\n",
       "</table>\n",
       "</div>"
      ],
      "text/plain": [
       "  sub_icb_location_code sub_icb_location_ons_code  \\\n",
       "0                   00L                 E38000130   \n",
       "1                   00L                 E38000130   \n",
       "2                   00L                 E38000130   \n",
       "3                   00L                 E38000130   \n",
       "4                   00L                 E38000130   \n",
       "\n",
       "                        sub_icb_location_name icb_ons_code region_ons_code  \\\n",
       "0  NHS North East and North Cumbria ICB - 00L    E54000050       E40000012   \n",
       "1  NHS North East and North Cumbria ICB - 00L    E54000050       E40000012   \n",
       "2  NHS North East and North Cumbria ICB - 00L    E54000050       E40000012   \n",
       "3  NHS North East and North Cumbria ICB - 00L    E54000050       E40000012   \n",
       "4  NHS North East and North Cumbria ICB - 00L    E54000050       E40000012   \n",
       "\n",
       "  appointment_date         actual_duration  count_of_appointments  \n",
       "0        01-Dec-21           31-60 Minutes                    364  \n",
       "1        01-Dec-21           21-30 Minutes                    619  \n",
       "2        01-Dec-21            6-10 Minutes                   1698  \n",
       "3        01-Dec-21  Unknown / Data Quality                   1277  \n",
       "4        01-Dec-21           16-20 Minutes                    730  "
      ]
     },
     "execution_count": 46,
     "metadata": {},
     "output_type": "execute_result"
    }
   ],
   "source": [
    "# View the first five rows of appointment_date for the ad DataFrame to determine the date format.\n",
    "\n",
    "ad.head()\n",
    "\n",
    "\n",
    "\n",
    "\n",
    "\n"
   ]
  },
  {
   "cell_type": "code",
   "execution_count": 47,
   "id": "d32fb602",
   "metadata": {},
   "outputs": [
    {
     "data": {
      "text/html": [
       "<div>\n",
       "<style scoped>\n",
       "    .dataframe tbody tr th:only-of-type {\n",
       "        vertical-align: middle;\n",
       "    }\n",
       "\n",
       "    .dataframe tbody tr th {\n",
       "        vertical-align: top;\n",
       "    }\n",
       "\n",
       "    .dataframe thead th {\n",
       "        text-align: right;\n",
       "    }\n",
       "</style>\n",
       "<table border=\"1\" class=\"dataframe\">\n",
       "  <thead>\n",
       "    <tr style=\"text-align: right;\">\n",
       "      <th></th>\n",
       "      <th>appointment_date</th>\n",
       "      <th>icb_ons_code</th>\n",
       "      <th>sub_icb_location_name</th>\n",
       "      <th>service_setting</th>\n",
       "      <th>context_type</th>\n",
       "      <th>national_category</th>\n",
       "      <th>count_of_appointments</th>\n",
       "      <th>appointment_month</th>\n",
       "    </tr>\n",
       "  </thead>\n",
       "  <tbody>\n",
       "    <tr>\n",
       "      <th>0</th>\n",
       "      <td>2021-08-02</td>\n",
       "      <td>E54000050</td>\n",
       "      <td>NHS North East and North Cumbria ICB - 00L</td>\n",
       "      <td>Primary Care Network</td>\n",
       "      <td>Care Related Encounter</td>\n",
       "      <td>Patient contact during Care Home Round</td>\n",
       "      <td>3</td>\n",
       "      <td>2021-08</td>\n",
       "    </tr>\n",
       "    <tr>\n",
       "      <th>1</th>\n",
       "      <td>2021-08-02</td>\n",
       "      <td>E54000050</td>\n",
       "      <td>NHS North East and North Cumbria ICB - 00L</td>\n",
       "      <td>Other</td>\n",
       "      <td>Care Related Encounter</td>\n",
       "      <td>Planned Clinics</td>\n",
       "      <td>7</td>\n",
       "      <td>2021-08</td>\n",
       "    </tr>\n",
       "    <tr>\n",
       "      <th>2</th>\n",
       "      <td>2021-08-02</td>\n",
       "      <td>E54000050</td>\n",
       "      <td>NHS North East and North Cumbria ICB - 00L</td>\n",
       "      <td>General Practice</td>\n",
       "      <td>Care Related Encounter</td>\n",
       "      <td>Home Visit</td>\n",
       "      <td>79</td>\n",
       "      <td>2021-08</td>\n",
       "    </tr>\n",
       "    <tr>\n",
       "      <th>3</th>\n",
       "      <td>2021-08-02</td>\n",
       "      <td>E54000050</td>\n",
       "      <td>NHS North East and North Cumbria ICB - 00L</td>\n",
       "      <td>General Practice</td>\n",
       "      <td>Care Related Encounter</td>\n",
       "      <td>General Consultation Acute</td>\n",
       "      <td>725</td>\n",
       "      <td>2021-08</td>\n",
       "    </tr>\n",
       "    <tr>\n",
       "      <th>4</th>\n",
       "      <td>2021-08-02</td>\n",
       "      <td>E54000050</td>\n",
       "      <td>NHS North East and North Cumbria ICB - 00L</td>\n",
       "      <td>General Practice</td>\n",
       "      <td>Care Related Encounter</td>\n",
       "      <td>Structured Medication Review</td>\n",
       "      <td>2</td>\n",
       "      <td>2021-08</td>\n",
       "    </tr>\n",
       "  </tbody>\n",
       "</table>\n",
       "</div>"
      ],
      "text/plain": [
       "  appointment_date icb_ons_code                       sub_icb_location_name  \\\n",
       "0       2021-08-02    E54000050  NHS North East and North Cumbria ICB - 00L   \n",
       "1       2021-08-02    E54000050  NHS North East and North Cumbria ICB - 00L   \n",
       "2       2021-08-02    E54000050  NHS North East and North Cumbria ICB - 00L   \n",
       "3       2021-08-02    E54000050  NHS North East and North Cumbria ICB - 00L   \n",
       "4       2021-08-02    E54000050  NHS North East and North Cumbria ICB - 00L   \n",
       "\n",
       "        service_setting            context_type  \\\n",
       "0  Primary Care Network  Care Related Encounter   \n",
       "1                 Other  Care Related Encounter   \n",
       "2      General Practice  Care Related Encounter   \n",
       "3      General Practice  Care Related Encounter   \n",
       "4      General Practice  Care Related Encounter   \n",
       "\n",
       "                        national_category  count_of_appointments  \\\n",
       "0  Patient contact during Care Home Round                      3   \n",
       "1                         Planned Clinics                      7   \n",
       "2                              Home Visit                     79   \n",
       "3              General Consultation Acute                    725   \n",
       "4            Structured Medication Review                      2   \n",
       "\n",
       "  appointment_month  \n",
       "0           2021-08  \n",
       "1           2021-08  \n",
       "2           2021-08  \n",
       "3           2021-08  \n",
       "4           2021-08  "
      ]
     },
     "execution_count": 47,
     "metadata": {},
     "output_type": "execute_result"
    }
   ],
   "source": [
    "# View the first five rows of appointment_date for the nc DataFrame to determine the date format.\n",
    "\n",
    "nc.head()\n",
    "\n",
    "\n",
    "\n",
    "\n"
   ]
  },
  {
   "cell_type": "code",
   "execution_count": 50,
   "id": "05a60b63",
   "metadata": {},
   "outputs": [
    {
     "name": "stdout",
     "output_type": "stream",
     "text": [
      "  sub_icb_location_code sub_icb_location_ons_code  \\\n",
      "0                   00L                 E38000130   \n",
      "1                   00L                 E38000130   \n",
      "2                   00L                 E38000130   \n",
      "3                   00L                 E38000130   \n",
      "4                   00L                 E38000130   \n",
      "\n",
      "                        sub_icb_location_name icb_ons_code region_ons_code  \\\n",
      "0  NHS North East and North Cumbria ICB - 00L    E54000050       E40000012   \n",
      "1  NHS North East and North Cumbria ICB - 00L    E54000050       E40000012   \n",
      "2  NHS North East and North Cumbria ICB - 00L    E54000050       E40000012   \n",
      "3  NHS North East and North Cumbria ICB - 00L    E54000050       E40000012   \n",
      "4  NHS North East and North Cumbria ICB - 00L    E54000050       E40000012   \n",
      "\n",
      "  appointment_date         actual_duration  count_of_appointments  \n",
      "0       2021-12-01           31-60 Minutes                    364  \n",
      "1       2021-12-01           21-30 Minutes                    619  \n",
      "2       2021-12-01            6-10 Minutes                   1698  \n",
      "3       2021-12-01  Unknown / Data Quality                   1277  \n",
      "4       2021-12-01           16-20 Minutes                    730  \n"
     ]
    }
   ],
   "source": [
    "# Change the date format of ad['appointment_date'].\n",
    "\n",
    "ad['appointment_date'] = pd.to_datetime(ad['appointment_date'])\n",
    "print (ad.head())\n",
    "\n",
    "\n"
   ]
  },
  {
   "cell_type": "code",
   "execution_count": 51,
   "id": "b73db1bf",
   "metadata": {},
   "outputs": [
    {
     "name": "stdout",
     "output_type": "stream",
     "text": [
      "  icb_ons_code appointment_month appointment_status hcp_type appointment_mode  \\\n",
      "0    E54000034        2020-01-01           Attended       GP     Face-to-Face   \n",
      "1    E54000034        2020-01-01           Attended       GP     Face-to-Face   \n",
      "2    E54000034        2020-01-01           Attended       GP     Face-to-Face   \n",
      "3    E54000034        2020-01-01           Attended       GP     Face-to-Face   \n",
      "4    E54000034        2020-01-01           Attended       GP     Face-to-Face   \n",
      "\n",
      "  time_between_book_and_appointment  count_of_appointments  \n",
      "0                             1 Day                   8107  \n",
      "1                    15  to 21 Days                   6791  \n",
      "2                       2 to 7 Days                  20686  \n",
      "3                    22  to 28 Days                   4268  \n",
      "4                     8  to 14 Days                  11971  \n"
     ]
    }
   ],
   "source": [
    "# Change the format of ar['appointment_date'] to datetime.\n",
    "\n",
    "ar['appointment_month']=pd.to_datetime(ar['appointment_month'])\n",
    "print (ar.head())\n",
    "\n",
    "\n",
    "# View the DataFrame.\n"
   ]
  },
  {
   "cell_type": "code",
   "execution_count": 54,
   "id": "28e6b2fa",
   "metadata": {},
   "outputs": [
    {
     "name": "stdout",
     "output_type": "stream",
     "text": [
      "Minimum Date in ad DataFrame: 2021-12-01 00:00:00\n",
      "Maximum Date in ad DataFrame: 2022-06-30 00:00:00\n"
     ]
    }
   ],
   "source": [
    "# Determine the minimum and maximum dates in the ad DataFrame.\n",
    "\n",
    "\n",
    "\n",
    "min_date = ad['appointment_date'].min()\n",
    "max_date = ad['appointment_date'].max()\n",
    "\n",
    "print(\"Minimum Date in ad DataFrame:\", min_date)\n",
    "print(\"Maximum Date in ad DataFrame:\", max_date)\n",
    "\n"
   ]
  },
  {
   "cell_type": "code",
   "execution_count": 56,
   "id": "87072228",
   "metadata": {},
   "outputs": [
    {
     "name": "stdout",
     "output_type": "stream",
     "text": [
      "Minimum Date in nc DataFrame: 2021-08-01 00:00:00\n",
      "Maximum Date in nc DataFrame: 2022-06-01 00:00:00\n"
     ]
    }
   ],
   "source": [
    "# Determine the minimum and maximum dates in the nc DataFrame.\n",
    "nc['appointment_month']=pd.to_datetime(nc['appointment_month'])\n",
    "\n",
    "min_date = nc['appointment_month'].min()\n",
    "max_date = nc['appointment_month'].max()\n",
    "\n",
    "print(\"Minimum Date in nc DataFrame:\", min_date)\n",
    "print(\"Maximum Date in nc DataFrame:\", max_date)\n",
    "\n",
    "\n"
   ]
  },
  {
   "cell_type": "markdown",
   "id": "f41ad664",
   "metadata": {},
   "source": [
    "**Question 2:** Which service setting was the most popular for NHS North West London from 1 January to 1 June 2022?"
   ]
  },
  {
   "cell_type": "code",
   "execution_count": 59,
   "id": "b577ca5f",
   "metadata": {},
   "outputs": [
    {
     "name": "stdout",
     "output_type": "stream",
     "text": [
      "Most Popular Service Setting for NHS North West London from 1 January to 1 June 2022: General Practice\n"
     ]
    }
   ],
   "source": [
    "# For each of these service settings, determine the number of records available for the period and the location. \n",
    "\n",
    "# Filter the DataFrame for the specified date range (1 January to 1 June 2022)\n",
    "start_date = '2022-01-01'\n",
    "end_date = '2022-06-01'\n",
    "filtered_nc = nc[(nc['appointment_month'] >= start_date) & (nc['appointment_month'] <= end_date)]\n",
    "\n",
    "# Determine the most popular service setting\n",
    "most_popular_service_setting = filtered_nc['service_setting'].value_counts().idxmax()\n",
    "\n",
    "# Print the result\n",
    "print(\"Most Popular Service Setting for NHS North West London from 1 January to 1 June 2022:\", most_popular_service_setting)\n",
    "\n",
    "# View the output.\n"
   ]
  },
  {
   "cell_type": "markdown",
   "id": "7ac94132",
   "metadata": {},
   "source": [
    "**Question 3:** Which month had the highest number of appointments?"
   ]
  },
  {
   "cell_type": "code",
   "execution_count": 61,
   "id": "6084c6d1",
   "metadata": {},
   "outputs": [
    {
     "name": "stdout",
     "output_type": "stream",
     "text": [
      "Month with the Highest Number of Appointments across ad, ar, and nc: 3\n"
     ]
    }
   ],
   "source": [
    "# Number of appointments per month == sum of count_of_appointments by month.\n",
    "# Use the groupby() and sort_values() functions.\n",
    "\n",
    "\n",
    "ad['appointment_date'] = pd.to_datetime(ad['appointment_date'])\n",
    "ar['appointment_month'] = pd.to_datetime(ar['appointment_month'])\n",
    "nc['appointment_month'] = pd.to_datetime(nc['appointment_month'])\n",
    "\n",
    "# Extract month from the 'appointment_date' and create a new column\n",
    "ad['month'] = ad['appointment_date'].dt.month\n",
    "ar['month'] = ar['appointment_month'].dt.month\n",
    "nc['month'] = nc['appointment_month'].dt.month\n",
    "\n",
    "# Concatenate the three dataframes\n",
    "combined_df = pd.concat([ad, ar, nc], ignore_index=True)\n",
    "\n",
    "# Group by month and count the number of appointments\n",
    "appointments_per_month = combined_df.groupby('month')['count_of_appointments'].sum()\n",
    "\n",
    "# Find the month with the highest number of appointments\n",
    "most_appointments_month = appointments_per_month.idxmax()\n",
    "\n",
    "# Print the result\n",
    "print(\"Month with the Highest Number of Appointments across ad, ar, and nc:\", most_appointments_month)\n",
    "\n",
    "\n"
   ]
  },
  {
   "cell_type": "markdown",
   "id": "b28a49a5",
   "metadata": {},
   "source": [
    "**Question 4:** What was the total number of records per month?"
   ]
  },
  {
   "cell_type": "code",
   "execution_count": 62,
   "id": "00668a95",
   "metadata": {},
   "outputs": [
    {
     "name": "stdout",
     "output_type": "stream",
     "text": [
      "    month data_source  record_count\n",
      "0       1          ad         19643\n",
      "1       1          ar         60433\n",
      "2       1          nc         71896\n",
      "3       2          ad         18974\n",
      "4       2          ar         59771\n",
      "5       2          nc         71769\n",
      "6       3          ad         21236\n",
      "7       3          ar         61251\n",
      "8       3          nc         82822\n",
      "9       4          ad         19078\n",
      "10      4          ar         58649\n",
      "11      4          nc         70012\n",
      "12      5          ad         20128\n",
      "13      5          ar         57998\n",
      "14      5          nc         77425\n",
      "15      6          ad         19227\n",
      "16      6          ar         58889\n",
      "17      6          nc         74168\n",
      "18      7          ar         39401\n",
      "19      8          ar         39033\n",
      "20      8          nc         69999\n",
      "21      9          ar         40484\n",
      "22      9          nc         74922\n",
      "23     10          ar         40684\n",
      "24     10          nc         74078\n",
      "25     11          ar         40441\n",
      "26     11          nc         77652\n",
      "27     12          ad         19507\n",
      "28     12          ar         39787\n",
      "29     12          nc         72651\n"
     ]
    }
   ],
   "source": [
    "# Total number of records per month.\n",
    "ad['appointment_date'] = pd.to_datetime(ad['appointment_date'])\n",
    "ar['appointment_month'] = pd.to_datetime(ar['appointment_month'])\n",
    "nc['appointment_month'] = pd.to_datetime(nc['appointment_month'])\n",
    "\n",
    "# Extract month from the 'appointment_date' and create a new column\n",
    "ad['month'] = ad['appointment_date'].dt.month\n",
    "ar['month'] = ar['appointment_month'].dt.month\n",
    "nc['month'] = nc['appointment_month'].dt.month\n",
    "\n",
    "# Add a 'data_source' column to each dataframe\n",
    "ad['data_source'] = 'ad'\n",
    "ar['data_source'] = 'ar'\n",
    "nc['data_source'] = 'nc'\n",
    "\n",
    "# Concatenate the three dataframes\n",
    "combined_df = pd.concat([ad, ar, nc], ignore_index=True)\n",
    "\n",
    "# Group by month and data source, and calculate the count of records\n",
    "records_per_month_per_source = combined_df.groupby(['month', 'data_source']).size().reset_index(name='record_count')\n",
    "\n",
    "# Print the result\n",
    "print(records_per_month_per_source)"
   ]
  },
  {
   "cell_type": "code",
   "execution_count": 60,
   "id": "636b0d9c-44d5-47b5-b761-bbe2e28402e9",
   "metadata": {},
   "outputs": [
    {
     "name": "stdout",
     "output_type": "stream",
     "text": [
      "Minimum Date in nc DataFrame: 2020-01-01 00:00:00\n",
      "Maximum Date in nc DataFrame: 2022-06-01 00:00:00\n",
      "Most Popular appointment mode for NHS North West London from 1 January to 1 June 2022: Face-to-Face\n"
     ]
    }
   ],
   "source": [
    "# Most popular appointment mode\n",
    "\n",
    "ar['appointment_month']=pd.to_datetime(ar['appointment_month'])\n",
    "\n",
    "min_date = ar['appointment_month'].min()\n",
    "max_date = ar['appointment_month'].max()\n",
    "\n",
    "print(\"Minimum Date in nc DataFrame:\", min_date)\n",
    "print(\"Maximum Date in nc DataFrame:\", max_date)\n",
    "\n",
    "start_date = '2022-01-01'\n",
    "end_date = '2022-06-01'\n",
    "filtered_ar = ar[(ar['appointment_month'] >= start_date) & (ar['appointment_month'] <= end_date)]\n",
    "\n",
    "# Determine the most popular service setting\n",
    "most_popular_appointment_mode = filtered_ar['appointment_mode'].value_counts().idxmax()\n",
    "\n",
    "# Print the result\n",
    "print(\"Most Popular appointment mode for NHS North West London from 1 January to 1 June 2022:\", most_popular_appointment_mode)\n",
    "\n",
    "# View the output.\n",
    "\n"
   ]
  },
  {
   "cell_type": "markdown",
   "id": "e6dc0037-9337-4168-9917-cbfe55f53303",
   "metadata": {},
   "source": [
    "> ***Check*** that you have adequately satisfied the expectations of the current module and that you have added code comments as well as Markdown cells documenting your analytic journey and observations to satisfy the assessment criteria."
   ]
  },
  {
   "cell_type": "markdown",
   "id": "7aba0dca",
   "metadata": {},
   "source": [
    "# "
   ]
  },
  {
   "cell_type": "markdown",
   "id": "3a2caa91",
   "metadata": {},
   "source": [
    "## 4) Assignment activity 4\n",
    "Use visual techniques to explore and communicate patterns in the data. Note that you will likely revisit this section when preparing the final visualisations to be used in your technical report and business presentation. Make sure to document your thoughts and observations as they relate to various potential stakeholders.\n",
    "\n",
    "The seasons are summer (June to August 2021), autumn (September to November 2021), winter (December to February 2022), and spring (March to May 2022)."
   ]
  },
  {
   "cell_type": "markdown",
   "id": "946a2948",
   "metadata": {},
   "source": [
    "### Create visualisations and identify possible monthly and seasonal trends in the data."
   ]
  },
  {
   "cell_type": "code",
   "execution_count": 63,
   "id": "c833e1ab",
   "metadata": {},
   "outputs": [
    {
     "name": "stderr",
     "output_type": "stream",
     "text": [
      "Matplotlib is building the font cache; this may take a moment.\n"
     ]
    }
   ],
   "source": [
    "# Import the necessary libraries.\n",
    "import seaborn as sns\n",
    "import matplotlib.pyplot as plt\n",
    "\n",
    "# Set figure size.\n",
    "sns.set(rc={'figure.figsize':(15, 12)})\n",
    "\n",
    "# Set the plot style as white.\n",
    "sns.set_style('white')"
   ]
  },
  {
   "cell_type": "markdown",
   "id": "9bb9d65d",
   "metadata": {},
   "source": [
    "### Objective 1\n",
    "Create three visualisations indicating the number of appointments per month for service settings, context types, and national categories."
   ]
  },
  {
   "cell_type": "code",
   "execution_count": 64,
   "id": "e1ba886c",
   "metadata": {},
   "outputs": [
    {
     "name": "stdout",
     "output_type": "stream",
     "text": [
      "  sub_icb_location_code sub_icb_location_ons_code  \\\n",
      "0                   00L                 E38000130   \n",
      "1                   00L                 E38000130   \n",
      "2                   00L                 E38000130   \n",
      "3                   00L                 E38000130   \n",
      "4                   00L                 E38000130   \n",
      "\n",
      "                        sub_icb_location_name icb_ons_code region_ons_code  \\\n",
      "0  NHS North East and North Cumbria ICB - 00L    E54000050       E40000012   \n",
      "1  NHS North East and North Cumbria ICB - 00L    E54000050       E40000012   \n",
      "2  NHS North East and North Cumbria ICB - 00L    E54000050       E40000012   \n",
      "3  NHS North East and North Cumbria ICB - 00L    E54000050       E40000012   \n",
      "4  NHS North East and North Cumbria ICB - 00L    E54000050       E40000012   \n",
      "\n",
      "  appointment_date         actual_duration  count_of_appointments  month  \\\n",
      "0       2021-12-01           31-60 Minutes                    364     12   \n",
      "1       2021-12-01           21-30 Minutes                    619     12   \n",
      "2       2021-12-01            6-10 Minutes                   1698     12   \n",
      "3       2021-12-01  Unknown / Data Quality                   1277     12   \n",
      "4       2021-12-01           16-20 Minutes                    730     12   \n",
      "\n",
      "  data_source appointment_month appointment_status hcp_type appointment_mode  \\\n",
      "0          ad               NaT                NaN      NaN              NaN   \n",
      "1          ad               NaT                NaN      NaN              NaN   \n",
      "2          ad               NaT                NaN      NaN              NaN   \n",
      "3          ad               NaT                NaN      NaN              NaN   \n",
      "4          ad               NaT                NaN      NaN              NaN   \n",
      "\n",
      "  time_between_book_and_appointment service_setting context_type  \\\n",
      "0                               NaN             NaN          NaN   \n",
      "1                               NaN             NaN          NaN   \n",
      "2                               NaN             NaN          NaN   \n",
      "3                               NaN             NaN          NaN   \n",
      "4                               NaN             NaN          NaN   \n",
      "\n",
      "  national_category  \n",
      "0               NaN  \n",
      "1               NaN  \n",
      "2               NaN  \n",
      "3               NaN  \n",
      "4               NaN  \n"
     ]
    }
   ],
   "source": [
    "# Change the data type of the appointment month to string to allow for easier plotting.\n",
    "\n",
    "combined_df['appointment_month'] = combined_df['appointment_month'].astype(str)\n",
    "\n",
    "# Print the first 5 rows to verify the changes\n",
    "print(combined_df.head())"
   ]
  },
  {
   "cell_type": "code",
   "execution_count": 67,
   "id": "63160f27",
   "metadata": {},
   "outputs": [
    {
     "name": "stdout",
     "output_type": "stream",
     "text": [
      "    month            service_setting  count_of_appointments\n",
      "0       1  Extended Access Provision                 186375\n",
      "1       1           General Practice               23583053\n",
      "2       1                      Other                 457440\n",
      "3       1       Primary Care Network                 569044\n",
      "4       1                   Unmapped                 839562\n",
      "5       2  Extended Access Provision                 196627\n",
      "6       2           General Practice               23305934\n",
      "7       2                      Other                 456153\n",
      "8       2       Primary Care Network                 585300\n",
      "9       2                   Unmapped                 811246\n",
      "10      3  Extended Access Provision                 231905\n",
      "11      3           General Practice               27187368\n",
      "12      3                      Other                 530677\n",
      "13      3       Primary Care Network                 702176\n",
      "14      3                   Unmapped                 942912\n",
      "15      4  Extended Access Provision                 192284\n",
      "16      4           General Practice               21916791\n",
      "17      4                      Other                 437402\n",
      "18      4       Primary Care Network                 606270\n",
      "19      4                   Unmapped                 760313\n",
      "20      5  Extended Access Provision                 220511\n",
      "21      5           General Practice               25238620\n",
      "22      5                      Other                 503327\n",
      "23      5       Primary Care Network                 712280\n",
      "24      5                   Unmapped                 820770\n",
      "25      6  Extended Access Provision                 209652\n",
      "26      6           General Practice               23680374\n",
      "27      6                      Other                 478813\n",
      "28      6       Primary Care Network                 700599\n",
      "29      6                   Unmapped                 758640\n",
      "30      8  Extended Access Provision                 160927\n",
      "31      8           General Practice               21575852\n",
      "32      8                      Other                 449101\n",
      "33      8       Primary Care Network                 432448\n",
      "34      8                   Unmapped                1233843\n",
      "35      9  Extended Access Provision                 187906\n",
      "36      9           General Practice               25940821\n",
      "37      9                      Other                 527174\n",
      "38      9       Primary Care Network                 530485\n",
      "39      9                   Unmapped                1336115\n",
      "40     10  Extended Access Provision                 209539\n",
      "41     10           General Practice               27606171\n",
      "42     10                      Other                 556487\n",
      "43     10       Primary Care Network                 564981\n",
      "44     10                   Unmapped                1366656\n",
      "45     11  Extended Access Provision                 207577\n",
      "46     11           General Practice               27767889\n",
      "47     11                      Other                 558784\n",
      "48     11       Primary Care Network                 614324\n",
      "49     11                   Unmapped                1256496\n",
      "50     12  Extended Access Provision                 173504\n",
      "51     12           General Practice               23008818\n",
      "52     12                      Other                 464718\n",
      "53     12       Primary Care Network                 539479\n",
      "54     12                   Unmapped                 954257\n"
     ]
    }
   ],
   "source": [
    "# Aggregate on a monthly level and determine the sum of records per month.\n",
    "\n",
    " \n",
    "nc['appointment_date'] = pd.to_datetime(nc['appointment_date'])\n",
    "\n",
    "# Extract month and service setting from the 'appointment_date' and create new columns\n",
    "nc['month'] = nc['appointment_date'].dt.month\n",
    "nc_ss = nc[['month', 'service_setting', 'count_of_appointments']].copy()\n",
    "\n",
    "# Group by 'month' and 'service_setting' and calculate the total number of appointments\n",
    "nc_ss = nc_ss.groupby(['month', 'service_setting'])['count_of_appointments'].sum().reset_index()\n",
    "\n",
    "# View the new DataFrame\n",
    "print(nc_ss)\n"
   ]
  },
  {
   "cell_type": "markdown",
   "id": "b82916ae",
   "metadata": {},
   "source": [
    "**Service settings:**"
   ]
  },
  {
   "cell_type": "code",
   "execution_count": 68,
   "id": "485b51c6",
   "metadata": {},
   "outputs": [
    {
     "data": {
      "image/png": "[encoded data removed]",
      "text/plain": [
       "<Figure size 1500x1200 with 1 Axes>"
      ]
     },
     "metadata": {},
     "output_type": "display_data"
    }
   ],
   "source": [
    "# Plot the appointments over the available date range, and review the service settings for months.\n",
    "\n",
    "\n",
    "x_variable = 'month'\n",
    "y_variable = 'count_of_appointments'\n",
    "\n",
    "# Create a lineplot with Seaborn\n",
    "sns.lineplot(x=x_variable, y=y_variable, hue='service_setting', data=nc_ss, ci=None)\n",
    "\n",
    "# Set plot labels and title\n",
    "plt.xlabel('Month')\n",
    "plt.ylabel('Total Appointments')\n",
    "plt.title('Monthly Appointments by Service Setting')\n",
    "\n",
    "# Show the plot\n",
    "plt.show()\n",
    "# Create a lineplot.\n"
   ]
  },
  {
   "cell_type": "markdown",
   "id": "e3fb10cc-aa4c-4d43-bc3d-9ffb3f011a66",
   "metadata": {},
   "source": [
    "> ***Check*** that you have adequately satisfied the expectations of the current module and that you have added code comments as well as Markdown cells documenting your analytic journey and observations to satisfy the assessment criteria."
   ]
  },
  {
   "cell_type": "markdown",
   "id": "d70b95c0",
   "metadata": {},
   "source": [
    "# "
   ]
  },
  {
   "cell_type": "markdown",
   "id": "d3513fd2",
   "metadata": {},
   "source": [
    "## 5) Assignment activity 5"
   ]
  },
  {
   "cell_type": "markdown",
   "id": "347b2229",
   "metadata": {},
   "source": [
    "### Analyse tweets from Twitter with hashtags related to healthcare in the UK."
   ]
  },
  {
   "cell_type": "code",
   "execution_count": null,
   "id": "06bc19bb",
   "metadata": {},
   "outputs": [],
   "source": [
    "# Libraries and settings needed for analysis.\n",
    "import pandas as pd\n",
    "import seaborn as sns\n",
    "\n",
    "# Set the figure size.\n",
    "sns.set(rc={'figure.figsize':(15, 12)})\n",
    "\n",
    "# Set the plot style as white.\n",
    "sns.set_style('white')\n",
    "\n",
    "# Maximum column width to display.\n",
    "pd.options.display.max_colwidth = 200"
   ]
  },
  {
   "cell_type": "code",
   "execution_count": 4,
   "id": "558dec8e",
   "metadata": {},
   "outputs": [
    {
     "name": "stdout",
     "output_type": "stream",
     "text": [
      "              tweet_id                                    tweet_full_text  \\\n",
      "0  1567629223795527681  As Arkansas’ first Comprehensive Stroke Certif...   \n",
      "1  1567582846612553728  RT @AndreaGrammer: Work-life balance is at the...   \n",
      "2  1567582787070304256  RT @OntarioGreens: $10 billion can go a long w...   \n",
      "3  1567582767625428992  RT @modrnhealthcr: 🚨#NEW:🚨 Insurance companies...   \n",
      "4  1567582720460570625  ICYMI: Our recent blogs on Cybersecurity in Ac...   \n",
      "\n",
      "                                      tweet_entities  \\\n",
      "0  {'hashtags': [{'text': 'Healthcare', 'indices'...   \n",
      "1  {'hashtags': [{'text': 'PremiseHealth', 'indic...   \n",
      "2  {'hashtags': [{'text': 'Healthcare', 'indices'...   \n",
      "3  {'hashtags': [{'text': 'NEW', 'indices': [20, ...   \n",
      "4  {'hashtags': [{'text': 'blogs', 'indices': [18...   \n",
      "\n",
      "                             tweet_entities_hashtags  \\\n",
      "0                                        #Healthcare   \n",
      "1                            #PremiseHealth, #hiring   \n",
      "2                                        #Healthcare   \n",
      "3                                               #NEW   \n",
      "4  #blogs, #digitaltransformation, #cybersecurity...   \n",
      "\n",
      "                                      tweet_metadata  tweet_retweet_count  \\\n",
      "0  {'iso_language_code': 'en', 'result_type': 're...                    0   \n",
      "1  {'iso_language_code': 'en', 'result_type': 're...                    2   \n",
      "2  {'iso_language_code': 'en', 'result_type': 're...                   39   \n",
      "3  {'iso_language_code': 'en', 'result_type': 're...                    5   \n",
      "4  {'iso_language_code': 'en', 'result_type': 're...                    0   \n",
      "\n",
      "   tweet_favorite_count  tweet_favorited  tweet_retweeted tweet_lang  \n",
      "0                     0            False            False         en  \n",
      "1                     0            False            False         en  \n",
      "2                     0            False            False         en  \n",
      "3                     0            False            False         en  \n",
      "4                     0            False            False         en  \n"
     ]
    }
   ],
   "source": [
    "# Load the data set.\n",
    "\n",
    "tweets=pd.read_csv('tweets.csv')\n",
    "\n",
    "# View the DataFrame.\n",
    "\n",
    "print(tweets.head())\n"
   ]
  },
  {
   "cell_type": "code",
   "execution_count": null,
   "id": "b9592370",
   "metadata": {},
   "outputs": [],
   "source": [
    "# Explore the metadata and data set.\n"
   ]
  },
  {
   "cell_type": "code",
   "execution_count": null,
   "id": "e2fd27e3",
   "metadata": {},
   "outputs": [],
   "source": [
    "# Would it be useful to only look at retweeted and favourite tweet messages?\n",
    "# Explain your answer.\n",
    "\n"
   ]
  },
  {
   "cell_type": "code",
   "execution_count": 61,
   "id": "bb667e2f",
   "metadata": {},
   "outputs": [
    {
     "name": "stdout",
     "output_type": "stream",
     "text": [
      "                      text\n",
      "0                 tweet_id\n",
      "1          tweet_full_text\n",
      "2           tweet_entities\n",
      "3  tweet_entities_hashtags\n"
     ]
    }
   ],
   "source": [
    "# Create a new DataFrame containing only the text.\n",
    " \n",
    "tweets_data = {'text': ['tweet_id', 'tweet_full_text', 'tweet_entities', 'tweet_entities_hashtags']}\n",
    "tweets = pd.DataFrame(tweets_data)\n",
    "\n",
    "# Create a new DataFrame 'tweets_text' with only text values\n",
    "tweets_text = pd.DataFrame(tweets['text'])\n",
    "\n",
    "# View the new DataFrame\n",
    "print(tweets_text)\n"
   ]
  },
  {
   "cell_type": "code",
   "execution_count": 62,
   "id": "ce3211b3",
   "metadata": {},
   "outputs": [
    {
     "name": "stdout",
     "output_type": "stream",
     "text": [
      "List of values containing the '#' symbol:\n",
      "[]\n",
      "Initial content of 'tags': []\n"
     ]
    }
   ],
   "source": [
    "# Loop through the messages, and create a list of values containing the # symbol.\n",
    "hashtags_list = [text for text in tweets['text'] if '#' in text]\n",
    "\n",
    "# Print the list of values containing the '#' symbol\n",
    "print(\"List of values containing the '#' symbol:\")\n",
    "print(hashtags_list)\n",
    "\n",
    " #Create a variable named 'tags' and assign an empty list to it\n",
    "tags = []\n",
    "\n",
    "# Print the variable to verify its content\n",
    "print(\"Initial content of 'tags':\", tags)\n",
    "\n",
    "\n"
   ]
  },
  {
   "cell_type": "code",
   "execution_count": 63,
   "id": "111ee38c",
   "metadata": {},
   "outputs": [
    {
     "name": "stdout",
     "output_type": "stream",
     "text": [
      "First 30 records of 'tweets_text':\n",
      "                      text\n",
      "0                 tweet_id\n",
      "1          tweet_full_text\n",
      "2           tweet_entities\n",
      "3  tweet_entities_hashtags\n"
     ]
    }
   ],
   "source": [
    "# Display the first 30 records.\n",
    "\n",
    "print(\"First 30 records of 'tweets_text':\")\n",
    "print(tweets_text.head(30))\n"
   ]
  },
  {
   "cell_type": "code",
   "execution_count": 64,
   "id": "3127ca56",
   "metadata": {},
   "outputs": [
    {
     "name": "stdout",
     "output_type": "stream",
     "text": [
      "New DataFrame with only text values:\n",
      "                      text\n",
      "0                 tweet_id\n",
      "1          tweet_full_text\n",
      "2           tweet_entities\n",
      "3  tweet_entities_hashtags\n",
      "\n",
      "First 30 records of the 'tags' Series:\n",
      "Series([], dtype: object)\n"
     ]
    }
   ],
   "source": [
    "# Convert the series to a DataFrame in preparation for visualisation.\n",
    "\n",
    "tweets_text = tweets[['text']].copy()\n",
    "\n",
    "# View the new DataFrame\n",
    "print(\"New DataFrame with only text values:\")\n",
    "print(tweets_text.head())\n",
    "\n",
    "# Create a variable 'tags' and assign an empty list to it\n",
    "tags = []\n",
    "\n",
    "# Use a for loop to extract hashtags from the text and append them to the 'tags' list\n",
    "for text in tweets_text['text']:\n",
    "    tags.extend(word.lower() for word in text.split() if word.startswith('#'))\n",
    "\n",
    "# Create a Pandas Series to count the values in the list and set the Series equal to 'tags'\n",
    "tags_series = pd.Series(tags)\n",
    "\n",
    "# Display the first 30 records\n",
    "print(\"\\nFirst 30 records of the 'tags' Series:\")\n",
    "print(tags_series.head(30))\n",
    "\n",
    "# Rename the columns.\n"
   ]
  },
  {
   "cell_type": "markdown",
   "id": "a03cb38a-fe57-4fab-a546-2d40c72e427f",
   "metadata": {},
   "source": [
    " > ***Check*** that you have adequately satisfied the expectations of the current module and that you have added code comments as well as Markdown cells documenting your analytic journey and observations to satisfy the assessment criteria."
   ]
  },
  {
   "cell_type": "markdown",
   "id": "5534d8ff",
   "metadata": {},
   "source": [
    "# "
   ]
  },
  {
   "cell_type": "markdown",
   "id": "c04eb259",
   "metadata": {},
   "source": [
    "## 6) Assignment activity 6\n",
    "In the final module you will answer additional questions from the NHS as well as additional questions and observations you identified. Make sure to revisit previous sections that may provide useful insights to the questions posed in Module 6 where required."
   ]
  },
  {
   "cell_type": "markdown",
   "id": "9579ccd5",
   "metadata": {},
   "source": [
    "### Investigate the main concerns posed by the NHS. "
   ]
  },
  {
   "cell_type": "code",
   "execution_count": 19,
   "id": "9e21e577",
   "metadata": {},
   "outputs": [
    {
     "name": "stdout",
     "output_type": "stream",
     "text": [
      "\n",
      "Appointments Regional:\n",
      "  icb_ons_code appointment_month appointment_status hcp_type appointment_mode  \\\n",
      "0    E54000034           2020-01           Attended       GP     Face-to-Face   \n",
      "1    E54000034           2020-01           Attended       GP     Face-to-Face   \n",
      "2    E54000034           2020-01           Attended       GP     Face-to-Face   \n",
      "3    E54000034           2020-01           Attended       GP     Face-to-Face   \n",
      "4    E54000034           2020-01           Attended       GP     Face-to-Face   \n",
      "\n",
      "  time_between_book_and_appointment  count_of_appointments  \n",
      "0                             1 Day                   8107  \n",
      "1                    15  to 21 Days                   6791  \n",
      "2                       2 to 7 Days                  20686  \n",
      "3                    22  to 28 Days                   4268  \n",
      "4                     8  to 14 Days                  11971  \n"
     ]
    }
   ],
   "source": [
    "# Prepare your workstation.\n",
    "# Load the appointments_regional.csv file.\n",
    "\n",
    "appointments_regional=pd.read_csv('appointments_regional.csv')\n",
    "\n",
    "# View the DataFrame.\n",
    "\n",
    "print(\"Appointments Regional:\")\n",
    "print(appointments_regional.head())\n",
    "\n"
   ]
  },
  {
   "cell_type": "code",
   "execution_count": 21,
   "id": "580ed8c0",
   "metadata": {},
   "outputs": [
    {
     "name": "stdout",
     "output_type": "stream",
     "text": [
      "Minimum Date in 'ar' DataFrame: 2020-01\n",
      "Maximum Date in 'ar' DataFrame: 2022-06\n"
     ]
    }
   ],
   "source": [
    "# Print the min and max dates.\n",
    "\n",
    "ar = pd.read_csv('appointments_regional.csv')\n",
    "\n",
    "min_date_ar = ar['appointment_month'].min()\n",
    "max_date_ar = ar['appointment_month'].max()\n",
    "\n",
    "print(\"Minimum Date in 'ar' DataFrame:\", min_date_ar)\n",
    "print(\"Maximum Date in 'ar' DataFrame:\", max_date_ar)\n",
    "\n"
   ]
  },
  {
   "cell_type": "code",
   "execution_count": 22,
   "id": "86bef592",
   "metadata": {},
   "outputs": [
    {
     "name": "stdout",
     "output_type": "stream",
     "text": [
      "\n",
      "First 5 rows of the filtered 'ar' dataset:\n",
      "     icb_ons_code appointment_month appointment_status hcp_type  \\\n",
      "3850    E54000034           2021-09           Attended       GP   \n",
      "3851    E54000034           2021-09           Attended       GP   \n",
      "3852    E54000034           2021-09           Attended       GP   \n",
      "3853    E54000034           2021-09           Attended       GP   \n",
      "3854    E54000034           2021-09           Attended       GP   \n",
      "\n",
      "     appointment_mode time_between_book_and_appointment  count_of_appointments  \n",
      "3850     Face-to-Face                             1 Day                   8288  \n",
      "3851     Face-to-Face                    15  to 21 Days                   3827  \n",
      "3852     Face-to-Face                       2 to 7 Days                  13466  \n",
      "3853     Face-to-Face                    22  to 28 Days                   1300  \n",
      "3854     Face-to-Face                     8  to 14 Days                   6825  \n"
     ]
    }
   ],
   "source": [
    "# Filter the data set to only look at data from 2021-08 onwards.\n",
    "# Filter the 'ar' dataset to only include data from August 2021 onwards\n",
    "ar_filtered = ar[ar['appointment_month'] >= '2021-08-01']\n",
    "\n",
    "# Print the first 5 rows of the filtered dataset\n",
    "print(\"First 5 rows of the filtered 'ar' dataset:\")\n",
    "print(ar_filtered.head())\n"
   ]
  },
  {
   "cell_type": "markdown",
   "id": "d6e4b4d8",
   "metadata": {},
   "source": [
    "**Question 1:** Should the NHS start looking at increasing staff levels? "
   ]
  },
  {
   "cell_type": "code",
   "execution_count": 28,
   "id": "00805db8",
   "metadata": {},
   "outputs": [],
   "source": [
    "# Create an aggregated data set to review the different features.\n",
    "\n",
    "\n",
    "ar['appointment_month'] = pd.to_datetime(ar['appointment_month'])\n",
    "ar_subset = ar[['appointment_month', 'hcp_type', 'appointment_status', 'appointment_mode', 'time_between_book_and_appointment', 'count_of_appointments']].copy()\n",
    "\n",
    "\n"
   ]
  },
  {
   "cell_type": "code",
   "execution_count": 30,
   "id": "d55c0532",
   "metadata": {},
   "outputs": [
    {
     "name": "stdout",
     "output_type": "stream",
     "text": [
      "      appointment_month hcp_type appointment_status appointment_mode  \\\n",
      "0            2020-01-01       GP           Attended     Face-to-Face   \n",
      "1            2020-01-01       GP           Attended     Face-to-Face   \n",
      "2            2020-01-01       GP           Attended     Face-to-Face   \n",
      "3            2020-01-01       GP           Attended     Face-to-Face   \n",
      "4            2020-01-01       GP           Attended     Face-to-Face   \n",
      "...                 ...      ...                ...              ...   \n",
      "10134        2022-06-01  Unknown            Unknown          Unknown   \n",
      "10135        2022-06-01  Unknown            Unknown          Unknown   \n",
      "10136        2022-06-01  Unknown            Unknown          Unknown   \n",
      "10137        2022-06-01  Unknown            Unknown          Unknown   \n",
      "10138        2022-06-01  Unknown            Unknown     Video/Online   \n",
      "\n",
      "      time_between_book_and_appointment  count_of_appointments  \n",
      "0                                 1 Day                 653846  \n",
      "1                        15  to 21 Days                 620789  \n",
      "2                           2 to 7 Days                1723834  \n",
      "3                        22  to 28 Days                 421189  \n",
      "4                         8  to 14 Days                1123186  \n",
      "...                                 ...                    ...  \n",
      "10134                     8  to 14 Days                   5494  \n",
      "10135                 More than 28 Days                   5115  \n",
      "10136                          Same Day                   1914  \n",
      "10137            Unknown / Data Quality                     53  \n",
      "10138                       2 to 7 Days                      1  \n",
      "\n",
      "[10139 rows x 6 columns]\n",
      "   appointment_month  count_of_appointments   utilisation\n",
      "0         2020-01-01               27199296  9.066432e+05\n",
      "1         2020-02-01               24104621  8.034874e+05\n",
      "2         2020-03-01               24053468  8.017823e+05\n",
      "3         2020-04-01               16007881  5.335960e+05\n",
      "4         2020-05-01               16417212  5.472404e+05\n",
      "5         2020-06-01               20690805  6.896935e+05\n",
      "6         2020-07-01               22491437  7.497146e+05\n",
      "7         2020-08-01               20150520  6.716840e+05\n",
      "8         2020-09-01               26714255  8.904752e+05\n",
      "9         2020-10-01               28301932  9.433977e+05\n",
      "10        2020-11-01               25061602  8.353867e+05\n",
      "11        2020-12-01               23535936  7.845312e+05\n",
      "12        2021-01-01               22492069  7.497356e+05\n",
      "13        2021-02-01               22399569  7.466523e+05\n",
      "14        2021-03-01               27225424  9.075141e+05\n",
      "15        2021-04-01               23879932  7.959977e+05\n",
      "16        2021-05-01               23508395  7.836132e+05\n",
      "17        2021-06-01               26784182  8.928061e+05\n",
      "18        2021-07-01               25739219  8.579740e+05\n",
      "19        2021-08-01               23852171  7.950724e+05\n",
      "20        2021-09-01               28522501  9.507500e+05\n",
      "21        2021-10-01               30303834  1.010128e+06\n",
      "22        2021-11-01               30405070  1.013502e+06\n",
      "23        2021-12-01               25140776  8.380259e+05\n",
      "24        2022-01-01               25635474  8.545158e+05\n",
      "25        2022-02-01               25355260  8.451753e+05\n",
      "26        2022-03-01               29595038  9.865013e+05\n",
      "27        2022-04-01               23913060  7.971020e+05\n",
      "28        2022-05-01               27495508  9.165169e+05\n",
      "29        2022-06-01               25828078  8.609359e+05\n"
     ]
    }
   ],
   "source": [
    "# Determine the total number of appointments per month.\n",
    "\n",
    "# Group by the selected columns and calculate the sum of 'count_of_appointments'\n",
    "ar_agg = ar_subset.groupby(['appointment_month', 'hcp_type', 'appointment_status', 'appointment_mode', 'time_between_book_and_appointment']).agg({'count_of_appointments': 'sum'}).reset_index()\n",
    "\n",
    "# View the new DataFrame 'ar_agg'\n",
    "print(ar_agg)\n",
    "\n",
    "# Add a new column to indicate the average utilisation of services.\n",
    "# Monthly aggregate / 30 to get to a daily value.\n",
    "# View the DataFrame.\n",
    "\n",
    "\n",
    "ar['appointment_month'] = pd.to_datetime(ar['appointment_month'])\n",
    "ar_df = ar.groupby('appointment_month')['count_of_appointments'].sum().reset_index()\n",
    "\n",
    "# Add a new column 'utilisation' indicating the average utilisation of service\n",
    "# Calculate the average by dividing the sum of monthly appointments by 30\n",
    "ar_df['utilisation'] = ar_df['count_of_appointments'] / 30\n",
    "\n",
    "# View the new DataFrame 'ar_df'\n",
    "print(ar_df)\n",
    "\n",
    "\n",
    "\n",
    "\n",
    "\n",
    "\n"
   ]
  },
  {
   "cell_type": "code",
   "execution_count": 35,
   "id": "15fdcf6a",
   "metadata": {},
   "outputs": [
    {
     "data": {
      "image/png": "[encoded data removed]",
      "text/plain": [
       "<Figure size 1000x600 with 1 Axes>"
      ]
     },
     "metadata": {},
     "output_type": "display_data"
    }
   ],
   "source": [
    "import seaborn as sns\n",
    "import matplotlib.pyplot as plt\n",
    "\n",
    "# Convert 'appointment_month' to string data type\n",
    "ar_df['appointment_month'] = ar_df['appointment_month'].astype(str)\n",
    "\n",
    "# Plot the number of monthly visits\n",
    "plt.figure(figsize=(10, 6))\n",
    "sns.lineplot(x='appointment_month', y='count_of_appointments', data=ar_df, marker='o')\n",
    "plt.title('Number of Monthly Visits')\n",
    "plt.xlabel('Month')\n",
    "plt.ylabel('Number of Appointments')\n",
    "plt.show()\n"
   ]
  },
  {
   "cell_type": "code",
   "execution_count": 38,
   "id": "e47e13f4",
   "metadata": {},
   "outputs": [
    {
     "data": {
      "image/png": "[encoded data removed]",
      "text/plain": [
       "<Figure size 1000x600 with 1 Axes>"
      ]
     },
     "metadata": {},
     "output_type": "display_data"
    }
   ],
   "source": [
    "# Plot monthly capacity utilisation.\n",
    "\n",
    "\n",
    "# Plot the monthly capacity utilisation\n",
    "plt.figure(figsize=(10, 6))\n",
    "sns.lineplot(x='appointment_month', y='utilisation', data=ar_df, marker=0)\n",
    "plt.title('Monthly Capacity Utilisation')\n",
    "plt.xlabel('Month')\n",
    "plt.ylabel('Utilisation')\n",
    "plt.show()\n",
    "\n",
    "\n",
    "# Create a lineplot with Seaborn.\n",
    "\n",
    "# Create a lineplot.\n"
   ]
  },
  {
   "cell_type": "markdown",
   "id": "eb893b06",
   "metadata": {},
   "source": [
    "**Question 2:** How do the healthcare professional types differ over time?"
   ]
  },
  {
   "cell_type": "code",
   "execution_count": 41,
   "id": "4179ad07",
   "metadata": {},
   "outputs": [
    {
     "data": {
      "image/png": "[encoded data removed]",
      "text/plain": [
       "<Figure size 1200x600 with 1 Axes>"
      ]
     },
     "metadata": {},
     "output_type": "display_data"
    }
   ],
   "source": [
    "# Create a lineplot to answer the question.\n",
    "\n",
    "import seaborn as sns\n",
    "import matplotlib.pyplot as plt\n",
    "\n",
    "# Assuming 'ar' is the name of your DataFrame\n",
    "# Assuming 'appointment_date' is the name of the date column\n",
    "# Assuming 'hcp_type' is the column containing healthcare professional types\n",
    "\n",
    "# Convert 'appointment_date' to datetime if not already\n",
    "ar['appointment_month'] = pd.to_datetime(ar['appointment_month'])\n",
    "\n",
    "# Create a lineplot to show how 'hcp_type' differs over time with different colors for each type\n",
    "plt.figure(figsize=(12, 6))\n",
    "sns.lineplot(x='appointment_month', y='hcp_type', hue='hcp_type', data=ar, ci=None)\n",
    "\n",
    "plt.title('How HCP Types Differ Over Time')\n",
    "plt.xlabel('Appointment month')\n",
    "plt.ylabel('HCP Type')\n",
    "plt.legend(title='HCP Type')\n",
    "plt.show()\n",
    "\n",
    "\n",
    "\n"
   ]
  },
  {
   "cell_type": "markdown",
   "id": "7830f29e",
   "metadata": {},
   "source": [
    "**Question 4:** Are there changes in terms of appointment type and the busiest months?"
   ]
  },
  {
   "cell_type": "code",
   "execution_count": 43,
   "id": "8b0e203c",
   "metadata": {},
   "outputs": [
    {
     "data": {
      "image/png": "[encoded data removed]",
      "text/plain": [
       "<Figure size 1200x600 with 1 Axes>"
      ]
     },
     "metadata": {},
     "output_type": "display_data"
    }
   ],
   "source": [
    "# Create a lineplot to answer the question.\n",
    "\n",
    "import seaborn as sns\n",
    "import matplotlib.pyplot as plt\n",
    "\n",
    "# Convert 'appointment_date' to datetime if not already\n",
    "ar['appointment_month'] = pd.to_datetime(ar['appointment_month'])\n",
    "\n",
    "# Create a lineplot to show how 'hcp_type' differs over time with different colors for each type\n",
    "plt.figure(figsize=(12, 6))\n",
    "sns.lineplot(x='appointment_month', y='appointment_mode', hue='appointment_mode', data=ar, ci=None)\n",
    "\n",
    "plt.title('How Appointment type differs over time')\n",
    "plt.xlabel('Appointment month')\n",
    "plt.ylabel('Appointment mode')\n",
    "plt.legend(title='appointment mode')\n",
    "plt.show()"
   ]
  },
  {
   "cell_type": "markdown",
   "id": "1047943e",
   "metadata": {},
   "source": [
    "**Question 6:** How does the spread of service settings compare?"
   ]
  },
  {
   "cell_type": "code",
   "execution_count": null,
   "id": "b3b6f791",
   "metadata": {},
   "outputs": [],
   "source": [
    "# Let's go back to the national category DataFrame you created in an earlier assignment activity.\n"
   ]
  },
  {
   "cell_type": "code",
   "execution_count": 53,
   "id": "85fbdb42",
   "metadata": {},
   "outputs": [
    {
     "name": "stdout",
     "output_type": "stream",
     "text": [
      "   appointment_month  count_of_appointments\n",
      "0            2021-08               23852171\n",
      "1            2021-09               28522501\n",
      "2            2021-10               30303834\n",
      "3            2021-11               30405070\n",
      "4            2021-12               25140776\n",
      "5            2022-01               25635474\n",
      "6            2022-02               25355260\n",
      "7            2022-03               29595038\n",
      "8            2022-04               23913060\n",
      "9            2022-05               27495508\n",
      "10           2022-06               25828078\n"
     ]
    }
   ],
   "source": [
    "# Create a new DataFrame consisting of the month of appointment and the number of appointments.\n",
    "\n",
    "national_categories = pd.read_excel('national_categories.xlsx')\n",
    "\n",
    "# Assuming 'national_categories' is the name of your DataFrame\n",
    "# Assuming 'appointment_date' is the name of the date column\n",
    "national_categories['appointment_date'] = pd.to_datetime(national_categories['appointment_date'])\n",
    "\n",
    "# Extract month from the 'appointment_date' and create a new column\n",
    "national_categories['appointment_month'] = national_categories['appointment_date'].dt.to_period('M')\n",
    "\n",
    "# Group by 'appointment_month' and calculate the sum of 'count_of_appointments'\n",
    "national_categories_grouped = national_categories.groupby('appointment_month')['count_of_appointments'].sum().reset_index()\n",
    "\n",
    "# View the new DataFrame\n",
    "print(national_categories_grouped)\n",
    "\n",
    "\n",
    "\n",
    "\n",
    "\n",
    "\n",
    "# View the DataFrame.\n"
   ]
  },
  {
   "cell_type": "code",
   "execution_count": 54,
   "id": "8b524499",
   "metadata": {},
   "outputs": [
    {
     "ename": "ValueError",
     "evalue": "Could not interpret input 'national_category'",
     "output_type": "error",
     "traceback": [
      "\u001b[1;31m---------------------------------------------------------------------------\u001b[0m",
      "\u001b[1;31mValueError\u001b[0m                                Traceback (most recent call last)",
      "Cell \u001b[1;32mIn[54], line 8\u001b[0m\n\u001b[0;32m      6\u001b[0m \u001b[38;5;66;03m# Create a boxplot to show the distribution of the number of appointments for all service settings\u001b[39;00m\n\u001b[0;32m      7\u001b[0m plt\u001b[38;5;241m.\u001b[39mfigure(figsize\u001b[38;5;241m=\u001b[39m(\u001b[38;5;241m12\u001b[39m, \u001b[38;5;241m6\u001b[39m))\n\u001b[1;32m----> 8\u001b[0m sns\u001b[38;5;241m.\u001b[39mboxplot(x\u001b[38;5;241m=\u001b[39m\u001b[38;5;124m'\u001b[39m\u001b[38;5;124mnational_category\u001b[39m\u001b[38;5;124m'\u001b[39m, y\u001b[38;5;241m=\u001b[39m\u001b[38;5;124m'\u001b[39m\u001b[38;5;124mcount_of_appointments\u001b[39m\u001b[38;5;124m'\u001b[39m, data\u001b[38;5;241m=\u001b[39mnational_categories_grouped)\n\u001b[0;32m      9\u001b[0m plt\u001b[38;5;241m.\u001b[39mtitle(\u001b[38;5;124m'\u001b[39m\u001b[38;5;124mDistribution of Number of Appointments for All Service Settings\u001b[39m\u001b[38;5;124m'\u001b[39m)\n\u001b[0;32m     10\u001b[0m plt\u001b[38;5;241m.\u001b[39mxlabel(\u001b[38;5;124m'\u001b[39m\u001b[38;5;124mNational Category\u001b[39m\u001b[38;5;124m'\u001b[39m)\n",
      "File \u001b[1;32m~\\anaconda3\\Lib\\site-packages\\seaborn\\categorical.py:2231\u001b[0m, in \u001b[0;36mboxplot\u001b[1;34m(data, x, y, hue, order, hue_order, orient, color, palette, saturation, width, dodge, fliersize, linewidth, whis, ax, **kwargs)\u001b[0m\n\u001b[0;32m   2224\u001b[0m \u001b[38;5;28;01mdef\u001b[39;00m \u001b[38;5;21mboxplot\u001b[39m(\n\u001b[0;32m   2225\u001b[0m     data\u001b[38;5;241m=\u001b[39m\u001b[38;5;28;01mNone\u001b[39;00m, \u001b[38;5;241m*\u001b[39m, x\u001b[38;5;241m=\u001b[39m\u001b[38;5;28;01mNone\u001b[39;00m, y\u001b[38;5;241m=\u001b[39m\u001b[38;5;28;01mNone\u001b[39;00m, hue\u001b[38;5;241m=\u001b[39m\u001b[38;5;28;01mNone\u001b[39;00m, order\u001b[38;5;241m=\u001b[39m\u001b[38;5;28;01mNone\u001b[39;00m, hue_order\u001b[38;5;241m=\u001b[39m\u001b[38;5;28;01mNone\u001b[39;00m,\n\u001b[0;32m   2226\u001b[0m     orient\u001b[38;5;241m=\u001b[39m\u001b[38;5;28;01mNone\u001b[39;00m, color\u001b[38;5;241m=\u001b[39m\u001b[38;5;28;01mNone\u001b[39;00m, palette\u001b[38;5;241m=\u001b[39m\u001b[38;5;28;01mNone\u001b[39;00m, saturation\u001b[38;5;241m=\u001b[39m\u001b[38;5;241m.75\u001b[39m, width\u001b[38;5;241m=\u001b[39m\u001b[38;5;241m.8\u001b[39m,\n\u001b[0;32m   2227\u001b[0m     dodge\u001b[38;5;241m=\u001b[39m\u001b[38;5;28;01mTrue\u001b[39;00m, fliersize\u001b[38;5;241m=\u001b[39m\u001b[38;5;241m5\u001b[39m, linewidth\u001b[38;5;241m=\u001b[39m\u001b[38;5;28;01mNone\u001b[39;00m, whis\u001b[38;5;241m=\u001b[39m\u001b[38;5;241m1.5\u001b[39m, ax\u001b[38;5;241m=\u001b[39m\u001b[38;5;28;01mNone\u001b[39;00m,\n\u001b[0;32m   2228\u001b[0m     \u001b[38;5;241m*\u001b[39m\u001b[38;5;241m*\u001b[39mkwargs\n\u001b[0;32m   2229\u001b[0m ):\n\u001b[1;32m-> 2231\u001b[0m     plotter \u001b[38;5;241m=\u001b[39m _BoxPlotter(x, y, hue, data, order, hue_order,\n\u001b[0;32m   2232\u001b[0m                           orient, color, palette, saturation,\n\u001b[0;32m   2233\u001b[0m                           width, dodge, fliersize, linewidth)\n\u001b[0;32m   2235\u001b[0m     \u001b[38;5;28;01mif\u001b[39;00m ax \u001b[38;5;129;01mis\u001b[39;00m \u001b[38;5;28;01mNone\u001b[39;00m:\n\u001b[0;32m   2236\u001b[0m         ax \u001b[38;5;241m=\u001b[39m plt\u001b[38;5;241m.\u001b[39mgca()\n",
      "File \u001b[1;32m~\\anaconda3\\Lib\\site-packages\\seaborn\\categorical.py:785\u001b[0m, in \u001b[0;36m_BoxPlotter.__init__\u001b[1;34m(self, x, y, hue, data, order, hue_order, orient, color, palette, saturation, width, dodge, fliersize, linewidth)\u001b[0m\n\u001b[0;32m    781\u001b[0m \u001b[38;5;28;01mdef\u001b[39;00m \u001b[38;5;21m__init__\u001b[39m(\u001b[38;5;28mself\u001b[39m, x, y, hue, data, order, hue_order,\n\u001b[0;32m    782\u001b[0m              orient, color, palette, saturation,\n\u001b[0;32m    783\u001b[0m              width, dodge, fliersize, linewidth):\n\u001b[1;32m--> 785\u001b[0m     \u001b[38;5;28mself\u001b[39m\u001b[38;5;241m.\u001b[39mestablish_variables(x, y, hue, data, orient, order, hue_order)\n\u001b[0;32m    786\u001b[0m     \u001b[38;5;28mself\u001b[39m\u001b[38;5;241m.\u001b[39mestablish_colors(color, palette, saturation)\n\u001b[0;32m    788\u001b[0m     \u001b[38;5;28mself\u001b[39m\u001b[38;5;241m.\u001b[39mdodge \u001b[38;5;241m=\u001b[39m dodge\n",
      "File \u001b[1;32m~\\anaconda3\\Lib\\site-packages\\seaborn\\categorical.py:541\u001b[0m, in \u001b[0;36m_CategoricalPlotter.establish_variables\u001b[1;34m(self, x, y, hue, data, orient, order, hue_order, units)\u001b[0m\n\u001b[0;32m    539\u001b[0m     \u001b[38;5;28;01mif\u001b[39;00m \u001b[38;5;28misinstance\u001b[39m(var, \u001b[38;5;28mstr\u001b[39m):\n\u001b[0;32m    540\u001b[0m         err \u001b[38;5;241m=\u001b[39m \u001b[38;5;124mf\u001b[39m\u001b[38;5;124m\"\u001b[39m\u001b[38;5;124mCould not interpret input \u001b[39m\u001b[38;5;124m'\u001b[39m\u001b[38;5;132;01m{\u001b[39;00mvar\u001b[38;5;132;01m}\u001b[39;00m\u001b[38;5;124m'\u001b[39m\u001b[38;5;124m\"\u001b[39m\n\u001b[1;32m--> 541\u001b[0m         \u001b[38;5;28;01mraise\u001b[39;00m \u001b[38;5;167;01mValueError\u001b[39;00m(err)\n\u001b[0;32m    543\u001b[0m \u001b[38;5;66;03m# Figure out the plotting orientation\u001b[39;00m\n\u001b[0;32m    544\u001b[0m orient \u001b[38;5;241m=\u001b[39m infer_orient(\n\u001b[0;32m    545\u001b[0m     x, y, orient, require_numeric\u001b[38;5;241m=\u001b[39m\u001b[38;5;28mself\u001b[39m\u001b[38;5;241m.\u001b[39mrequire_numeric\n\u001b[0;32m    546\u001b[0m )\n",
      "\u001b[1;31mValueError\u001b[0m: Could not interpret input 'national_category'"
     ]
    },
    {
     "data": {
      "text/plain": [
       "<Figure size 1200x600 with 0 Axes>"
      ]
     },
     "metadata": {},
     "output_type": "display_data"
    }
   ],
   "source": [
    "# Create a boxplot to investigate the spread of service settings.\n",
    "\n",
    "import seaborn as sns\n",
    "import matplotlib.pyplot as plt\n",
    "\n",
    "# Create a boxplot to show the distribution of the number of appointments for all service settings\n",
    "plt.figure(figsize=(12, 6))\n",
    "sns.boxplot(x='national_category', y='count_of_appointments', data=national_categories_grouped)\n",
    "plt.title('Distribution of Number of Appointments for All Service Settings')\n",
    "plt.xlabel('National Category')\n",
    "plt.ylabel('Number of Appointments')\n",
    "plt.show()\n",
    "\n"
   ]
  },
  {
   "cell_type": "code",
   "execution_count": 52,
   "id": "c8c2c69c",
   "metadata": {},
   "outputs": [
    {
     "ename": "KeyError",
     "evalue": "'national_category'",
     "output_type": "error",
     "traceback": [
      "\u001b[1;31m---------------------------------------------------------------------------\u001b[0m",
      "\u001b[1;31mKeyError\u001b[0m                                  Traceback (most recent call last)",
      "File \u001b[1;32m~\\anaconda3\\Lib\\site-packages\\pandas\\core\\indexes\\base.py:3653\u001b[0m, in \u001b[0;36mIndex.get_loc\u001b[1;34m(self, key)\u001b[0m\n\u001b[0;32m   3652\u001b[0m \u001b[38;5;28;01mtry\u001b[39;00m:\n\u001b[1;32m-> 3653\u001b[0m     \u001b[38;5;28;01mreturn\u001b[39;00m \u001b[38;5;28mself\u001b[39m\u001b[38;5;241m.\u001b[39m_engine\u001b[38;5;241m.\u001b[39mget_loc(casted_key)\n\u001b[0;32m   3654\u001b[0m \u001b[38;5;28;01mexcept\u001b[39;00m \u001b[38;5;167;01mKeyError\u001b[39;00m \u001b[38;5;28;01mas\u001b[39;00m err:\n",
      "File \u001b[1;32m~\\anaconda3\\Lib\\site-packages\\pandas\\_libs\\index.pyx:147\u001b[0m, in \u001b[0;36mpandas._libs.index.IndexEngine.get_loc\u001b[1;34m()\u001b[0m\n",
      "File \u001b[1;32m~\\anaconda3\\Lib\\site-packages\\pandas\\_libs\\index.pyx:176\u001b[0m, in \u001b[0;36mpandas._libs.index.IndexEngine.get_loc\u001b[1;34m()\u001b[0m\n",
      "File \u001b[1;32mpandas\\_libs\\hashtable_class_helper.pxi:7080\u001b[0m, in \u001b[0;36mpandas._libs.hashtable.PyObjectHashTable.get_item\u001b[1;34m()\u001b[0m\n",
      "File \u001b[1;32mpandas\\_libs\\hashtable_class_helper.pxi:7088\u001b[0m, in \u001b[0;36mpandas._libs.hashtable.PyObjectHashTable.get_item\u001b[1;34m()\u001b[0m\n",
      "\u001b[1;31mKeyError\u001b[0m: 'national_category'",
      "\nThe above exception was the direct cause of the following exception:\n",
      "\u001b[1;31mKeyError\u001b[0m                                  Traceback (most recent call last)",
      "Cell \u001b[1;32mIn[52], line 5\u001b[0m\n\u001b[0;32m      1\u001b[0m \u001b[38;5;66;03m# Create a boxplot to investigate the service settings without GP.\u001b[39;00m\n\u001b[0;32m      4\u001b[0m plt\u001b[38;5;241m.\u001b[39mfigure(figsize\u001b[38;5;241m=\u001b[39m(\u001b[38;5;241m12\u001b[39m, \u001b[38;5;241m6\u001b[39m))\n\u001b[1;32m----> 5\u001b[0m sns\u001b[38;5;241m.\u001b[39mboxplot(x\u001b[38;5;241m=\u001b[39m\u001b[38;5;124m'\u001b[39m\u001b[38;5;124mnational_category\u001b[39m\u001b[38;5;124m'\u001b[39m, y\u001b[38;5;241m=\u001b[39m\u001b[38;5;124m'\u001b[39m\u001b[38;5;124mcount_of_appointments\u001b[39m\u001b[38;5;124m'\u001b[39m, data\u001b[38;5;241m=\u001b[39mnational_categories_grouped[national_categories_grouped[\u001b[38;5;124m'\u001b[39m\u001b[38;5;124mnational_category\u001b[39m\u001b[38;5;124m'\u001b[39m] \u001b[38;5;241m!=\u001b[39m \u001b[38;5;124m'\u001b[39m\u001b[38;5;124mGP\u001b[39m\u001b[38;5;124m'\u001b[39m])\n\u001b[0;32m      6\u001b[0m plt\u001b[38;5;241m.\u001b[39mtitle(\u001b[38;5;124m'\u001b[39m\u001b[38;5;124mDistribution of Number of Appointments (Excluding GP Visits)\u001b[39m\u001b[38;5;124m'\u001b[39m)\n\u001b[0;32m      7\u001b[0m plt\u001b[38;5;241m.\u001b[39mxlabel(\u001b[38;5;124m'\u001b[39m\u001b[38;5;124mNational Category\u001b[39m\u001b[38;5;124m'\u001b[39m)\n",
      "File \u001b[1;32m~\\anaconda3\\Lib\\site-packages\\pandas\\core\\frame.py:3761\u001b[0m, in \u001b[0;36mDataFrame.__getitem__\u001b[1;34m(self, key)\u001b[0m\n\u001b[0;32m   3759\u001b[0m \u001b[38;5;28;01mif\u001b[39;00m \u001b[38;5;28mself\u001b[39m\u001b[38;5;241m.\u001b[39mcolumns\u001b[38;5;241m.\u001b[39mnlevels \u001b[38;5;241m>\u001b[39m \u001b[38;5;241m1\u001b[39m:\n\u001b[0;32m   3760\u001b[0m     \u001b[38;5;28;01mreturn\u001b[39;00m \u001b[38;5;28mself\u001b[39m\u001b[38;5;241m.\u001b[39m_getitem_multilevel(key)\n\u001b[1;32m-> 3761\u001b[0m indexer \u001b[38;5;241m=\u001b[39m \u001b[38;5;28mself\u001b[39m\u001b[38;5;241m.\u001b[39mcolumns\u001b[38;5;241m.\u001b[39mget_loc(key)\n\u001b[0;32m   3762\u001b[0m \u001b[38;5;28;01mif\u001b[39;00m is_integer(indexer):\n\u001b[0;32m   3763\u001b[0m     indexer \u001b[38;5;241m=\u001b[39m [indexer]\n",
      "File \u001b[1;32m~\\anaconda3\\Lib\\site-packages\\pandas\\core\\indexes\\base.py:3655\u001b[0m, in \u001b[0;36mIndex.get_loc\u001b[1;34m(self, key)\u001b[0m\n\u001b[0;32m   3653\u001b[0m     \u001b[38;5;28;01mreturn\u001b[39;00m \u001b[38;5;28mself\u001b[39m\u001b[38;5;241m.\u001b[39m_engine\u001b[38;5;241m.\u001b[39mget_loc(casted_key)\n\u001b[0;32m   3654\u001b[0m \u001b[38;5;28;01mexcept\u001b[39;00m \u001b[38;5;167;01mKeyError\u001b[39;00m \u001b[38;5;28;01mas\u001b[39;00m err:\n\u001b[1;32m-> 3655\u001b[0m     \u001b[38;5;28;01mraise\u001b[39;00m \u001b[38;5;167;01mKeyError\u001b[39;00m(key) \u001b[38;5;28;01mfrom\u001b[39;00m \u001b[38;5;21;01merr\u001b[39;00m\n\u001b[0;32m   3656\u001b[0m \u001b[38;5;28;01mexcept\u001b[39;00m \u001b[38;5;167;01mTypeError\u001b[39;00m:\n\u001b[0;32m   3657\u001b[0m     \u001b[38;5;66;03m# If we have a listlike key, _check_indexing_error will raise\u001b[39;00m\n\u001b[0;32m   3658\u001b[0m     \u001b[38;5;66;03m#  InvalidIndexError. Otherwise we fall through and re-raise\u001b[39;00m\n\u001b[0;32m   3659\u001b[0m     \u001b[38;5;66;03m#  the TypeError.\u001b[39;00m\n\u001b[0;32m   3660\u001b[0m     \u001b[38;5;28mself\u001b[39m\u001b[38;5;241m.\u001b[39m_check_indexing_error(key)\n",
      "\u001b[1;31mKeyError\u001b[0m: 'national_category'"
     ]
    },
    {
     "data": {
      "text/plain": [
       "<Figure size 1200x600 with 0 Axes>"
      ]
     },
     "metadata": {},
     "output_type": "display_data"
    }
   ],
   "source": [
    "# Create a boxplot to investigate the service settings without GP.\n",
    "\n",
    "\n",
    "plt.figure(figsize=(12, 6))\n",
    "sns.boxplot(x='national_category', y='count_of_appointments', data=national_categories_grouped[national_categories_grouped['national_category'] != 'GP'])\n",
    "plt.title('Distribution of Number of Appointments (Excluding GP Visits)')\n",
    "plt.xlabel('National Category')\n",
    "plt.ylabel('Number of Appointments')\n",
    "plt.show()\n"
   ]
  }
 ],
 "metadata": {
  "kernelspec": {
   "display_name": "Python 3 (ipykernel)",
   "language": "python",
   "name": "python3"
  },
  "language_info": {
   "codemirror_mode": {
    "name": "ipython",
    "version": 3
   },
   "file_extension": ".py",
   "mimetype": "text/x-python",
   "name": "python",
   "nbconvert_exporter": "python",
   "pygments_lexer": "ipython3",
   "version": "3.11.5"
  }
 },
 "nbformat": 4,
 "nbformat_minor": 5
}
